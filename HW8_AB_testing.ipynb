{
  "cells": [
    {
      "cell_type": "code",
      "execution_count": 5,
      "metadata": {
        "id": "j-CJzwqUUiqB",
        "colab": {
          "base_uri": "https://localhost:8080/"
        },
        "outputId": "74e5466e-2646-4798-c1ec-4fd184bcd24d"
      },
      "outputs": [
        {
          "output_type": "stream",
          "name": "stdout",
          "text": [
            "Requirement already satisfied: shap in /usr/local/lib/python3.7/dist-packages (0.40.0)\n",
            "Requirement already satisfied: scipy in /usr/local/lib/python3.7/dist-packages (from shap) (1.4.1)\n",
            "Requirement already satisfied: numpy in /usr/local/lib/python3.7/dist-packages (from shap) (1.19.5)\n",
            "Requirement already satisfied: tqdm>4.25.0 in /usr/local/lib/python3.7/dist-packages (from shap) (4.62.3)\n",
            "Requirement already satisfied: packaging>20.9 in /usr/local/lib/python3.7/dist-packages (from shap) (21.3)\n",
            "Requirement already satisfied: pandas in /usr/local/lib/python3.7/dist-packages (from shap) (1.1.5)\n",
            "Requirement already satisfied: scikit-learn in /usr/local/lib/python3.7/dist-packages (from shap) (1.0.1)\n",
            "Requirement already satisfied: numba in /usr/local/lib/python3.7/dist-packages (from shap) (0.51.2)\n",
            "Requirement already satisfied: cloudpickle in /usr/local/lib/python3.7/dist-packages (from shap) (1.3.0)\n",
            "Requirement already satisfied: slicer==0.0.7 in /usr/local/lib/python3.7/dist-packages (from shap) (0.0.7)\n",
            "Requirement already satisfied: pyparsing!=3.0.5,>=2.0.2 in /usr/local/lib/python3.7/dist-packages (from packaging>20.9->shap) (3.0.6)\n",
            "Requirement already satisfied: llvmlite<0.35,>=0.34.0.dev0 in /usr/local/lib/python3.7/dist-packages (from numba->shap) (0.34.0)\n",
            "Requirement already satisfied: setuptools in /usr/local/lib/python3.7/dist-packages (from numba->shap) (57.4.0)\n",
            "Requirement already satisfied: pytz>=2017.2 in /usr/local/lib/python3.7/dist-packages (from pandas->shap) (2018.9)\n",
            "Requirement already satisfied: python-dateutil>=2.7.3 in /usr/local/lib/python3.7/dist-packages (from pandas->shap) (2.8.2)\n",
            "Requirement already satisfied: six>=1.5 in /usr/local/lib/python3.7/dist-packages (from python-dateutil>=2.7.3->pandas->shap) (1.15.0)\n",
            "Requirement already satisfied: threadpoolctl>=2.0.0 in /usr/local/lib/python3.7/dist-packages (from scikit-learn->shap) (3.0.0)\n",
            "Requirement already satisfied: joblib>=0.11 in /usr/local/lib/python3.7/dist-packages (from scikit-learn->shap) (1.1.0)\n"
          ]
        }
      ],
      "source": [
        "import pandas as pd\n",
        "import numpy as np\n",
        "import re\n",
        "import scipy as sp\n",
        "import scipy.stats as sts\n",
        "# !pip install shap\n",
        "import shap\n",
        "import xgboost as xgb\n",
        "from sklearn.utils import shuffle\n",
        "from sklearn.pipeline import Pipeline, make_pipeline\n",
        "from sklearn.base import BaseEstimator, TransformerMixin\n",
        "from sklearn.linear_model import LogisticRegression\n",
        "from sklearn.model_selection import train_test_split\n",
        "from sklearn.pipeline import Pipeline\n",
        "from sklearn.pipeline import FeatureUnion\n",
        "from sklearn.ensemble import RandomForestClassifier\n",
        "from sklearn.metrics import f1_score, roc_auc_score, precision_score, classification_report, precision_recall_curve, confusion_matrix, log_loss\n",
        "from sklearn.model_selection import GridSearchCV\n",
        "from sklearn.preprocessing import MinMaxScaler\n",
        "from sklearn.ensemble import GradientBoostingClassifier\n",
        "from sklearn.preprocessing import StandardScaler\n",
        "from datetime import datetime as dt\n",
        "import random\n",
        "import warnings\n",
        "import itertools\n",
        "import matplotlib.pyplot as plt\n",
        "import seaborn as sns\n",
        "%matplotlib inline\n",
        "warnings.filterwarnings(\"ignore\", category=DeprecationWarning)\n",
        "random.seed(42)"
      ]
    },
    {
      "cell_type": "markdown",
      "metadata": {
        "id": "50IIxLyU-ltW"
      },
      "source": [
        "\n",
        "<a id='ab'></a>\n",
        "##  A/B тестирование. Практика\n",
        "\n",
        "A/B-тестирование (англ. A/B testing, Split testing) — метод маркетингового исследования, суть которого заключается в том, что контрольная группа элементов сравнивается с набором тестовых групп, в которых один или несколько показателей были изменены, для того, чтобы выяснить, какие из изменений улучшают целевой показатель и улучшают ли.\n",
        "\n",
        "Типичное применение в веб-дизайне — исследование влияния цветовой схемы, расположения и размера элементов интерфейса на конверсию сайта."
      ]
    },
    {
      "cell_type": "markdown",
      "metadata": {
        "id": "JctzO1Gn-ltX"
      },
      "source": [
        "Конверсия (Conversion Rate) в интернет-маркетинге — это отношение числа посетителей сайта, выполнивших на нём какие-либо целевые действия (покупку, регистрацию, подписку, посещение определённой страницы сайта, переход по рекламной ссылке), к общему числу посетителей сайта, выраженное в процентах. \n",
        "\n",
        "\n",
        "\n",
        "В теории принципы A/B тестирования невероятно просты:\n",
        "\n",
        "- Выдвигаем предположение о том, что какое-то изменение (например, персонализация главной страницы) увеличит конверсию интернет-магазина.\n",
        "\n",
        "- Создаем альтернативную версию сайта «Б» — копию исходной версии «А» с изменениями, от которых мы ждем роста эффективности сайта.\n",
        "\n",
        "- Всех посетителей сайта случайным образом делим на две равные группы: одной группе показываем исходный вариант (контрольная группа) , второй группе (тестовой) — альтернативный. Одновременно измеряем конверсию для обеих версий сайта.\n",
        "\n",
        "- Определяем статистически достоверно победивший вариант."
      ]
    },
    {
      "cell_type": "markdown",
      "metadata": {
        "id": "UVNAqfIA-ltX"
      },
      "source": [
        "Мы будем анализировать результаты A/B тестирования двух версий дизайна кнопки сайта интернет-магазина. \n",
        "\n",
        "Целевым действием считаем клик по этой кнопке. \n",
        "\n",
        "Первые три этапа А/В тестирования за нас провели, результаты предоставили в виде файла ab_dataset.csv. Нам осталось выполнить четвертый пункт."
      ]
    },
    {
      "cell_type": "markdown",
      "source": [
        "## **Исследование улучшения конверсии сайта**"
      ],
      "metadata": {
        "id": "hPgEVJuH7xbo"
      }
    },
    {
      "cell_type": "markdown",
      "metadata": {
        "id": "rQ4Gzr9o-ltX"
      },
      "source": [
        " <a id='eda'></a>\n",
        "### Первичный анализ данных"
      ]
    },
    {
      "cell_type": "markdown",
      "metadata": {
        "id": "Vo3Whc3h-ltX"
      },
      "source": [
        "Прочитаем данные из файла `ab_datas.csv`. Сохраним их в датафрейм `df`. \n",
        "\n",
        "Прочитаем данные и посмотрим на первые 5 строк:"
      ]
    },
    {
      "cell_type": "code",
      "execution_count": 6,
      "metadata": {
        "id": "WmrvOCGt-ltX",
        "colab": {
          "base_uri": "https://localhost:8080/",
          "height": 206
        },
        "outputId": "468b9ffc-5931-401d-a014-d473071c4fa0"
      },
      "outputs": [
        {
          "output_type": "execute_result",
          "data": {
            "text/html": [
              "\n",
              "  <div id=\"df-3f249f91-5028-4618-b7b9-a5058eb7221a\">\n",
              "    <div class=\"colab-df-container\">\n",
              "      <div>\n",
              "<style scoped>\n",
              "    .dataframe tbody tr th:only-of-type {\n",
              "        vertical-align: middle;\n",
              "    }\n",
              "\n",
              "    .dataframe tbody tr th {\n",
              "        vertical-align: top;\n",
              "    }\n",
              "\n",
              "    .dataframe thead th {\n",
              "        text-align: right;\n",
              "    }\n",
              "</style>\n",
              "<table border=\"1\" class=\"dataframe\">\n",
              "  <thead>\n",
              "    <tr style=\"text-align: right;\">\n",
              "      <th></th>\n",
              "      <th>user_id</th>\n",
              "      <th>timestamp</th>\n",
              "      <th>group</th>\n",
              "      <th>landing_page</th>\n",
              "      <th>converted</th>\n",
              "      <th>revenue</th>\n",
              "    </tr>\n",
              "  </thead>\n",
              "  <tbody>\n",
              "    <tr>\n",
              "      <th>0</th>\n",
              "      <td>851104</td>\n",
              "      <td>2017-01-21 22:11:48.556739</td>\n",
              "      <td>control</td>\n",
              "      <td>old_page</td>\n",
              "      <td>0</td>\n",
              "      <td>0</td>\n",
              "    </tr>\n",
              "    <tr>\n",
              "      <th>1</th>\n",
              "      <td>804228</td>\n",
              "      <td>2017-01-12 08:01:45.159739</td>\n",
              "      <td>control</td>\n",
              "      <td>old_page</td>\n",
              "      <td>0</td>\n",
              "      <td>0</td>\n",
              "    </tr>\n",
              "    <tr>\n",
              "      <th>2</th>\n",
              "      <td>661590</td>\n",
              "      <td>2017-01-11 16:55:06.154213</td>\n",
              "      <td>treatment</td>\n",
              "      <td>new_page</td>\n",
              "      <td>0</td>\n",
              "      <td>100</td>\n",
              "    </tr>\n",
              "    <tr>\n",
              "      <th>3</th>\n",
              "      <td>853541</td>\n",
              "      <td>2017-01-08 18:28:03.143765</td>\n",
              "      <td>treatment</td>\n",
              "      <td>new_page</td>\n",
              "      <td>0</td>\n",
              "      <td>0</td>\n",
              "    </tr>\n",
              "    <tr>\n",
              "      <th>4</th>\n",
              "      <td>864975</td>\n",
              "      <td>2017-01-21 01:52:26.210827</td>\n",
              "      <td>control</td>\n",
              "      <td>old_page</td>\n",
              "      <td>1</td>\n",
              "      <td>250</td>\n",
              "    </tr>\n",
              "  </tbody>\n",
              "</table>\n",
              "</div>\n",
              "      <button class=\"colab-df-convert\" onclick=\"convertToInteractive('df-3f249f91-5028-4618-b7b9-a5058eb7221a')\"\n",
              "              title=\"Convert this dataframe to an interactive table.\"\n",
              "              style=\"display:none;\">\n",
              "        \n",
              "  <svg xmlns=\"http://www.w3.org/2000/svg\" height=\"24px\"viewBox=\"0 0 24 24\"\n",
              "       width=\"24px\">\n",
              "    <path d=\"M0 0h24v24H0V0z\" fill=\"none\"/>\n",
              "    <path d=\"M18.56 5.44l.94 2.06.94-2.06 2.06-.94-2.06-.94-.94-2.06-.94 2.06-2.06.94zm-11 1L8.5 8.5l.94-2.06 2.06-.94-2.06-.94L8.5 2.5l-.94 2.06-2.06.94zm10 10l.94 2.06.94-2.06 2.06-.94-2.06-.94-.94-2.06-.94 2.06-2.06.94z\"/><path d=\"M17.41 7.96l-1.37-1.37c-.4-.4-.92-.59-1.43-.59-.52 0-1.04.2-1.43.59L10.3 9.45l-7.72 7.72c-.78.78-.78 2.05 0 2.83L4 21.41c.39.39.9.59 1.41.59.51 0 1.02-.2 1.41-.59l7.78-7.78 2.81-2.81c.8-.78.8-2.07 0-2.86zM5.41 20L4 18.59l7.72-7.72 1.47 1.35L5.41 20z\"/>\n",
              "  </svg>\n",
              "      </button>\n",
              "      \n",
              "  <style>\n",
              "    .colab-df-container {\n",
              "      display:flex;\n",
              "      flex-wrap:wrap;\n",
              "      gap: 12px;\n",
              "    }\n",
              "\n",
              "    .colab-df-convert {\n",
              "      background-color: #E8F0FE;\n",
              "      border: none;\n",
              "      border-radius: 50%;\n",
              "      cursor: pointer;\n",
              "      display: none;\n",
              "      fill: #1967D2;\n",
              "      height: 32px;\n",
              "      padding: 0 0 0 0;\n",
              "      width: 32px;\n",
              "    }\n",
              "\n",
              "    .colab-df-convert:hover {\n",
              "      background-color: #E2EBFA;\n",
              "      box-shadow: 0px 1px 2px rgba(60, 64, 67, 0.3), 0px 1px 3px 1px rgba(60, 64, 67, 0.15);\n",
              "      fill: #174EA6;\n",
              "    }\n",
              "\n",
              "    [theme=dark] .colab-df-convert {\n",
              "      background-color: #3B4455;\n",
              "      fill: #D2E3FC;\n",
              "    }\n",
              "\n",
              "    [theme=dark] .colab-df-convert:hover {\n",
              "      background-color: #434B5C;\n",
              "      box-shadow: 0px 1px 3px 1px rgba(0, 0, 0, 0.15);\n",
              "      filter: drop-shadow(0px 1px 2px rgba(0, 0, 0, 0.3));\n",
              "      fill: #FFFFFF;\n",
              "    }\n",
              "  </style>\n",
              "\n",
              "      <script>\n",
              "        const buttonEl =\n",
              "          document.querySelector('#df-3f249f91-5028-4618-b7b9-a5058eb7221a button.colab-df-convert');\n",
              "        buttonEl.style.display =\n",
              "          google.colab.kernel.accessAllowed ? 'block' : 'none';\n",
              "\n",
              "        async function convertToInteractive(key) {\n",
              "          const element = document.querySelector('#df-3f249f91-5028-4618-b7b9-a5058eb7221a');\n",
              "          const dataTable =\n",
              "            await google.colab.kernel.invokeFunction('convertToInteractive',\n",
              "                                                     [key], {});\n",
              "          if (!dataTable) return;\n",
              "\n",
              "          const docLinkHtml = 'Like what you see? Visit the ' +\n",
              "            '<a target=\"_blank\" href=https://colab.research.google.com/notebooks/data_table.ipynb>data table notebook</a>'\n",
              "            + ' to learn more about interactive tables.';\n",
              "          element.innerHTML = '';\n",
              "          dataTable['output_type'] = 'display_data';\n",
              "          await google.colab.output.renderOutput(dataTable, element);\n",
              "          const docLink = document.createElement('div');\n",
              "          docLink.innerHTML = docLinkHtml;\n",
              "          element.appendChild(docLink);\n",
              "        }\n",
              "      </script>\n",
              "    </div>\n",
              "  </div>\n",
              "  "
            ],
            "text/plain": [
              "   user_id                   timestamp  ... converted revenue\n",
              "0   851104  2017-01-21 22:11:48.556739  ...         0       0\n",
              "1   804228  2017-01-12 08:01:45.159739  ...         0       0\n",
              "2   661590  2017-01-11 16:55:06.154213  ...         0     100\n",
              "3   853541  2017-01-08 18:28:03.143765  ...         0       0\n",
              "4   864975  2017-01-21 01:52:26.210827  ...         1     250\n",
              "\n",
              "[5 rows x 6 columns]"
            ]
          },
          "metadata": {},
          "execution_count": 6
        }
      ],
      "source": [
        "df = pd.read_csv('/content/drive/MyDrive/Colab Notebooks/ML в бизнесе/ab_datas.csv')\n",
        "\n",
        "df.head()"
      ]
    },
    {
      "cell_type": "markdown",
      "metadata": {
        "id": "OjE-8Ylg-ltY"
      },
      "source": [
        "Посмотрим, сколько посетителей заходило на сайт (количество строк в нашем датафрейме)"
      ]
    },
    {
      "cell_type": "code",
      "execution_count": 7,
      "metadata": {
        "id": "jyudDfaq-ltY",
        "colab": {
          "base_uri": "https://localhost:8080/"
        },
        "outputId": "b157d65c-ce62-4a0b-f818-7bd3e6aeb2ac"
      },
      "outputs": [
        {
          "output_type": "stream",
          "name": "stdout",
          "text": [
            "Число строк: 294478\n"
          ]
        }
      ],
      "source": [
        "# Количество посетителей всего\n",
        "\n",
        "n_rows = df.shape[0]\n",
        "print(\"Число строк: {}\".format(n_rows))"
      ]
    },
    {
      "cell_type": "markdown",
      "metadata": {
        "id": "RAOG9bmL-ltY"
      },
      "source": [
        "Сколько уникальных пользователей (уникальных `user_id`) в датасете?"
      ]
    },
    {
      "cell_type": "code",
      "execution_count": 8,
      "metadata": {
        "id": "WFa9Jd7--ltY",
        "colab": {
          "base_uri": "https://localhost:8080/"
        },
        "outputId": "567b5078-d4f3-49a6-8718-9270469790ff"
      },
      "outputs": [
        {
          "output_type": "stream",
          "name": "stdout",
          "text": [
            "Число уникальных пользователей : 290584\n"
          ]
        }
      ],
      "source": [
        "user_total = df.nunique()['user_id']\n",
        "print(\"Число уникальных пользователей : {}\".format(user_total))"
      ]
    },
    {
      "cell_type": "markdown",
      "metadata": {
        "collapsed": true,
        "id": "o3N6lGi5-ltY"
      },
      "source": [
        "Посетителей из контрольной `control` группы должны были направлять на страницу в старом дизайне  `old_page` , пользователей из тестовой группы `treatment` - на страницу в новом дизайне `new_page`. Проверим, были ли ошибки при направлении."
      ]
    },
    {
      "cell_type": "code",
      "execution_count": 9,
      "metadata": {
        "id": "BmE8wUnS-ltY",
        "colab": {
          "base_uri": "https://localhost:8080/"
        },
        "outputId": "121c4643-7fac-43b5-a6ba-ea5e1edff3c0"
      },
      "outputs": [
        {
          "output_type": "stream",
          "name": "stdout",
          "text": [
            "Из тестовой группы неверно направлены 1965 пользователей.\n",
            "Из контрольной группы неверно направлены 1928 пользователей.\n",
            "\n"
          ]
        }
      ],
      "source": [
        "mismatch_1 = df.query(\"group == 'treatment' and landing_page == 'old_page'\")\n",
        "print(\"Из тестовой группы неверно направлены {}\".format(len(mismatch_1)) + \" пользователей.\")\n",
        "\n",
        "mismatch_2 = df.query(\"group == 'control' and landing_page == 'new_page'\")\n",
        "print(\"Из контрольной группы неверно направлены {}\".format(len(mismatch_2)) + \" пользователей.\\n\")\n"
      ]
    },
    {
      "cell_type": "code",
      "source": [
        "# Удалим ошибочные экземпляры\n",
        "df.drop(mismatch_1.index, axis=0, inplace=True)\n",
        "df.drop(mismatch_2.index, axis=0, inplace=True)"
      ],
      "metadata": {
        "id": "10JsD-4SlBy9"
      },
      "execution_count": 10,
      "outputs": []
    },
    {
      "cell_type": "code",
      "source": [
        "n_rows = df.shape[0]\n",
        "print(\"Число строк: {}\".format(n_rows))"
      ],
      "metadata": {
        "colab": {
          "base_uri": "https://localhost:8080/"
        },
        "id": "mRzSCV9M-B8x",
        "outputId": "2147bace-5df2-41cf-a619-51867fa4b5a5"
      },
      "execution_count": 11,
      "outputs": [
        {
          "output_type": "stream",
          "name": "stdout",
          "text": [
            "Число строк: 290585\n"
          ]
        }
      ]
    },
    {
      "cell_type": "markdown",
      "metadata": {
        "id": "a2XyBHO6-ltY"
      },
      "source": [
        "Выясним, есть ли в данных пропуски."
      ]
    },
    {
      "cell_type": "code",
      "execution_count": 12,
      "metadata": {
        "id": "HZeyu9Vg-ltZ",
        "colab": {
          "base_uri": "https://localhost:8080/"
        },
        "outputId": "923f789a-4637-4e1a-8a89-86f28e188396"
      },
      "outputs": [
        {
          "output_type": "stream",
          "name": "stdout",
          "text": [
            "<class 'pandas.core.frame.DataFrame'>\n",
            "Int64Index: 290585 entries, 0 to 294477\n",
            "Data columns (total 6 columns):\n",
            " #   Column        Non-Null Count   Dtype \n",
            "---  ------        --------------   ----- \n",
            " 0   user_id       290585 non-null  int64 \n",
            " 1   timestamp     290585 non-null  object\n",
            " 2   group         290585 non-null  object\n",
            " 3   landing_page  290585 non-null  object\n",
            " 4   converted     290585 non-null  int64 \n",
            " 5   revenue       290585 non-null  int64 \n",
            "dtypes: int64(3), object(3)\n",
            "memory usage: 15.5+ MB\n"
          ]
        }
      ],
      "source": [
        "df.info()"
      ]
    },
    {
      "cell_type": "markdown",
      "metadata": {
        "id": "fBYhavoY-ltZ"
      },
      "source": [
        "Из сообщений следует, что пропущенных значений нет."
      ]
    },
    {
      "cell_type": "markdown",
      "metadata": {
        "collapsed": true,
        "id": "cG8tfrF9-ltZ"
      },
      "source": [
        "Конверсия по всем посетителям."
      ]
    },
    {
      "cell_type": "code",
      "execution_count": 13,
      "metadata": {
        "id": "p4Wtr0fr-ltZ",
        "colab": {
          "base_uri": "https://localhost:8080/"
        },
        "outputId": "a68eef89-c9d4-49b4-917f-4abc7c7e34fb"
      },
      "outputs": [
        {
          "output_type": "stream",
          "name": "stdout",
          "text": [
            "Конверсия по всем посетителям: 11.959667567149026 %\n"
          ]
        }
      ],
      "source": [
        "p_all=df['converted'].mean()\n",
        "print(\"Конверсия по всем посетителям: {} %\".format(p_all*100))"
      ]
    },
    {
      "cell_type": "code",
      "execution_count": 14,
      "metadata": {
        "id": "PdJekzO9-ltZ",
        "colab": {
          "base_uri": "https://localhost:8080/"
        },
        "outputId": "523279ae-8c05-47c4-a341-cb8259e6c812"
      },
      "outputs": [
        {
          "output_type": "execute_result",
          "data": {
            "text/plain": [
              "0.11959667567149027"
            ]
          },
          "metadata": {},
          "execution_count": 14
        }
      ],
      "source": [
        "# Можно и так:\n",
        "sum(df['converted'].values)/n_rows"
      ]
    },
    {
      "cell_type": "markdown",
      "metadata": {
        "id": "rz1RnfX_-ltZ"
      },
      "source": [
        "Давайте посмотрим на описательную статистику нашего датасета (воспользуемся функцией  `describe`) и постараемся получить ответы на следующие вопросы:\n",
        "\n",
        "- Какова вероятность клика для посетителей из контрольной группы (старый дизайн)?\n",
        "\n",
        "- Какова вероятность клика для посетителей из тестовой группы (новый дизайн кнопки)?\n",
        "\n",
        "- Каково соотношение размеров тестовой и контрольный групп? Какова вероятность, что очередной посетитель будет направлен на версию со старым дизайном? С новым дизайном?"
      ]
    },
    {
      "cell_type": "code",
      "execution_count": 15,
      "metadata": {
        "id": "cywgO088-ltZ",
        "colab": {
          "base_uri": "https://localhost:8080/",
          "height": 175
        },
        "outputId": "946e0e40-da1e-4b18-c879-aebb421ac4bb"
      },
      "outputs": [
        {
          "output_type": "execute_result",
          "data": {
            "text/html": [
              "\n",
              "  <div id=\"df-70a2f63f-f37c-4f58-8f01-e95bcf67a3d7\">\n",
              "    <div class=\"colab-df-container\">\n",
              "      <div>\n",
              "<style scoped>\n",
              "    .dataframe tbody tr th:only-of-type {\n",
              "        vertical-align: middle;\n",
              "    }\n",
              "\n",
              "    .dataframe tbody tr th {\n",
              "        vertical-align: top;\n",
              "    }\n",
              "\n",
              "    .dataframe thead tr th {\n",
              "        text-align: left;\n",
              "    }\n",
              "\n",
              "    .dataframe thead tr:last-of-type th {\n",
              "        text-align: right;\n",
              "    }\n",
              "</style>\n",
              "<table border=\"1\" class=\"dataframe\">\n",
              "  <thead>\n",
              "    <tr>\n",
              "      <th></th>\n",
              "      <th colspan=\"8\" halign=\"left\">user_id</th>\n",
              "      <th colspan=\"8\" halign=\"left\">converted</th>\n",
              "      <th colspan=\"8\" halign=\"left\">revenue</th>\n",
              "    </tr>\n",
              "    <tr>\n",
              "      <th></th>\n",
              "      <th>count</th>\n",
              "      <th>mean</th>\n",
              "      <th>std</th>\n",
              "      <th>min</th>\n",
              "      <th>25%</th>\n",
              "      <th>50%</th>\n",
              "      <th>75%</th>\n",
              "      <th>max</th>\n",
              "      <th>count</th>\n",
              "      <th>mean</th>\n",
              "      <th>std</th>\n",
              "      <th>min</th>\n",
              "      <th>25%</th>\n",
              "      <th>50%</th>\n",
              "      <th>75%</th>\n",
              "      <th>max</th>\n",
              "      <th>count</th>\n",
              "      <th>mean</th>\n",
              "      <th>std</th>\n",
              "      <th>min</th>\n",
              "      <th>25%</th>\n",
              "      <th>50%</th>\n",
              "      <th>75%</th>\n",
              "      <th>max</th>\n",
              "    </tr>\n",
              "    <tr>\n",
              "      <th>group</th>\n",
              "      <th></th>\n",
              "      <th></th>\n",
              "      <th></th>\n",
              "      <th></th>\n",
              "      <th></th>\n",
              "      <th></th>\n",
              "      <th></th>\n",
              "      <th></th>\n",
              "      <th></th>\n",
              "      <th></th>\n",
              "      <th></th>\n",
              "      <th></th>\n",
              "      <th></th>\n",
              "      <th></th>\n",
              "      <th></th>\n",
              "      <th></th>\n",
              "      <th></th>\n",
              "      <th></th>\n",
              "      <th></th>\n",
              "      <th></th>\n",
              "      <th></th>\n",
              "      <th></th>\n",
              "      <th></th>\n",
              "      <th></th>\n",
              "    </tr>\n",
              "  </thead>\n",
              "  <tbody>\n",
              "    <tr>\n",
              "      <th>control</th>\n",
              "      <td>145274.0</td>\n",
              "      <td>788164.072594</td>\n",
              "      <td>91287.914601</td>\n",
              "      <td>630002.0</td>\n",
              "      <td>709279.5</td>\n",
              "      <td>788128.5</td>\n",
              "      <td>867208.25</td>\n",
              "      <td>945998.0</td>\n",
              "      <td>145274.0</td>\n",
              "      <td>0.120386</td>\n",
              "      <td>0.325414</td>\n",
              "      <td>0.0</td>\n",
              "      <td>0.0</td>\n",
              "      <td>0.0</td>\n",
              "      <td>0.0</td>\n",
              "      <td>1.0</td>\n",
              "      <td>145274.0</td>\n",
              "      <td>87.466787</td>\n",
              "      <td>102.443512</td>\n",
              "      <td>0.0</td>\n",
              "      <td>0.0</td>\n",
              "      <td>0.0</td>\n",
              "      <td>250.0</td>\n",
              "      <td>250.0</td>\n",
              "    </tr>\n",
              "    <tr>\n",
              "      <th>treatment</th>\n",
              "      <td>145311.0</td>\n",
              "      <td>787845.618446</td>\n",
              "      <td>91161.258854</td>\n",
              "      <td>630000.0</td>\n",
              "      <td>708746.5</td>\n",
              "      <td>787874.0</td>\n",
              "      <td>866718.50</td>\n",
              "      <td>945999.0</td>\n",
              "      <td>145311.0</td>\n",
              "      <td>0.118807</td>\n",
              "      <td>0.323563</td>\n",
              "      <td>0.0</td>\n",
              "      <td>0.0</td>\n",
              "      <td>0.0</td>\n",
              "      <td>0.0</td>\n",
              "      <td>1.0</td>\n",
              "      <td>145311.0</td>\n",
              "      <td>116.494966</td>\n",
              "      <td>102.727521</td>\n",
              "      <td>0.0</td>\n",
              "      <td>0.0</td>\n",
              "      <td>100.0</td>\n",
              "      <td>250.0</td>\n",
              "      <td>250.0</td>\n",
              "    </tr>\n",
              "  </tbody>\n",
              "</table>\n",
              "</div>\n",
              "      <button class=\"colab-df-convert\" onclick=\"convertToInteractive('df-70a2f63f-f37c-4f58-8f01-e95bcf67a3d7')\"\n",
              "              title=\"Convert this dataframe to an interactive table.\"\n",
              "              style=\"display:none;\">\n",
              "        \n",
              "  <svg xmlns=\"http://www.w3.org/2000/svg\" height=\"24px\"viewBox=\"0 0 24 24\"\n",
              "       width=\"24px\">\n",
              "    <path d=\"M0 0h24v24H0V0z\" fill=\"none\"/>\n",
              "    <path d=\"M18.56 5.44l.94 2.06.94-2.06 2.06-.94-2.06-.94-.94-2.06-.94 2.06-2.06.94zm-11 1L8.5 8.5l.94-2.06 2.06-.94-2.06-.94L8.5 2.5l-.94 2.06-2.06.94zm10 10l.94 2.06.94-2.06 2.06-.94-2.06-.94-.94-2.06-.94 2.06-2.06.94z\"/><path d=\"M17.41 7.96l-1.37-1.37c-.4-.4-.92-.59-1.43-.59-.52 0-1.04.2-1.43.59L10.3 9.45l-7.72 7.72c-.78.78-.78 2.05 0 2.83L4 21.41c.39.39.9.59 1.41.59.51 0 1.02-.2 1.41-.59l7.78-7.78 2.81-2.81c.8-.78.8-2.07 0-2.86zM5.41 20L4 18.59l7.72-7.72 1.47 1.35L5.41 20z\"/>\n",
              "  </svg>\n",
              "      </button>\n",
              "      \n",
              "  <style>\n",
              "    .colab-df-container {\n",
              "      display:flex;\n",
              "      flex-wrap:wrap;\n",
              "      gap: 12px;\n",
              "    }\n",
              "\n",
              "    .colab-df-convert {\n",
              "      background-color: #E8F0FE;\n",
              "      border: none;\n",
              "      border-radius: 50%;\n",
              "      cursor: pointer;\n",
              "      display: none;\n",
              "      fill: #1967D2;\n",
              "      height: 32px;\n",
              "      padding: 0 0 0 0;\n",
              "      width: 32px;\n",
              "    }\n",
              "\n",
              "    .colab-df-convert:hover {\n",
              "      background-color: #E2EBFA;\n",
              "      box-shadow: 0px 1px 2px rgba(60, 64, 67, 0.3), 0px 1px 3px 1px rgba(60, 64, 67, 0.15);\n",
              "      fill: #174EA6;\n",
              "    }\n",
              "\n",
              "    [theme=dark] .colab-df-convert {\n",
              "      background-color: #3B4455;\n",
              "      fill: #D2E3FC;\n",
              "    }\n",
              "\n",
              "    [theme=dark] .colab-df-convert:hover {\n",
              "      background-color: #434B5C;\n",
              "      box-shadow: 0px 1px 3px 1px rgba(0, 0, 0, 0.15);\n",
              "      filter: drop-shadow(0px 1px 2px rgba(0, 0, 0, 0.3));\n",
              "      fill: #FFFFFF;\n",
              "    }\n",
              "  </style>\n",
              "\n",
              "      <script>\n",
              "        const buttonEl =\n",
              "          document.querySelector('#df-70a2f63f-f37c-4f58-8f01-e95bcf67a3d7 button.colab-df-convert');\n",
              "        buttonEl.style.display =\n",
              "          google.colab.kernel.accessAllowed ? 'block' : 'none';\n",
              "\n",
              "        async function convertToInteractive(key) {\n",
              "          const element = document.querySelector('#df-70a2f63f-f37c-4f58-8f01-e95bcf67a3d7');\n",
              "          const dataTable =\n",
              "            await google.colab.kernel.invokeFunction('convertToInteractive',\n",
              "                                                     [key], {});\n",
              "          if (!dataTable) return;\n",
              "\n",
              "          const docLinkHtml = 'Like what you see? Visit the ' +\n",
              "            '<a target=\"_blank\" href=https://colab.research.google.com/notebooks/data_table.ipynb>data table notebook</a>'\n",
              "            + ' to learn more about interactive tables.';\n",
              "          element.innerHTML = '';\n",
              "          dataTable['output_type'] = 'display_data';\n",
              "          await google.colab.output.renderOutput(dataTable, element);\n",
              "          const docLink = document.createElement('div');\n",
              "          docLink.innerHTML = docLinkHtml;\n",
              "          element.appendChild(docLink);\n",
              "        }\n",
              "      </script>\n",
              "    </div>\n",
              "  </div>\n",
              "  "
            ],
            "text/plain": [
              "            user_id                               ... revenue              \n",
              "              count           mean           std  ...     50%    75%    max\n",
              "group                                             ...                      \n",
              "control    145274.0  788164.072594  91287.914601  ...     0.0  250.0  250.0\n",
              "treatment  145311.0  787845.618446  91161.258854  ...   100.0  250.0  250.0\n",
              "\n",
              "[2 rows x 24 columns]"
            ]
          },
          "metadata": {},
          "execution_count": 15
        }
      ],
      "source": [
        "df_grp = df.groupby('group')\n",
        "df_grp.describe()"
      ]
    },
    {
      "cell_type": "code",
      "source": [
        "# Объем контрольной группы\n",
        "n_rows_contr = len(df[df['group'] == 'control'])\n",
        "\n",
        "# Объем тестовой группы\n",
        "n_rows_treat = n_rows-n_rows_contr\n",
        "\n",
        "# Объем конверсии контрольной группы\n",
        "n_rows_contr_cnvrd = len(df.query(\"group == 'control' and converted == 1\"))\n",
        "\n",
        "# Объем конверсии тестовой группы\n",
        "n_rows_treat_cnvrd = len(df.query(\"group == 'treatment' and converted == 1\"))"
      ],
      "metadata": {
        "id": "BOd5AV9YsQXZ"
      },
      "execution_count": 16,
      "outputs": []
    },
    {
      "cell_type": "code",
      "source": [
        "print(\"Вероятность клика для посетителей из контрольной группы (старый дизайн): {}\".format(n_rows_contr_cnvrd/n_rows_contr))  # mean --> converted\n",
        "print(\"Вероятность клика для посетителей из тестовой группы (новый дизайн кнопки): {}\".format(n_rows_treat_cnvrd/n_rows_treat))  # mean --> converted"
      ],
      "metadata": {
        "colab": {
          "base_uri": "https://localhost:8080/"
        },
        "id": "X3yee_NfrXhs",
        "outputId": "227f93b8-0530-4dc0-ec0b-02fb0a83fc19"
      },
      "execution_count": 17,
      "outputs": [
        {
          "output_type": "stream",
          "name": "stdout",
          "text": [
            "Вероятность клика для посетителей из контрольной группы (старый дизайн): 0.1203863045004612\n",
            "Вероятность клика для посетителей из тестовой группы (новый дизайн кнопки): 0.11880724790277405\n"
          ]
        }
      ]
    },
    {
      "cell_type": "markdown",
      "metadata": {
        "id": "BB1aqoKD-ltZ"
      },
      "source": [
        "Ответы на остальные вопросы можно найти, например, так:"
      ]
    },
    {
      "cell_type": "code",
      "execution_count": 18,
      "metadata": {
        "id": "2q4mHg1y-lta",
        "colab": {
          "base_uri": "https://localhost:8080/"
        },
        "outputId": "fcfe8d72-3b00-4185-b366-f735aeccc5d3"
      },
      "outputs": [
        {
          "output_type": "stream",
          "name": "stdout",
          "text": [
            "Соотношение размеров тестовой и контрольной групп: 1.0002546911353718\n",
            "Вероятность, что новый пользователь будет направлен на версию со старым дизайном: 0.4999363353235714\n",
            "Вероятность, что новый пользователь будет направлен на версию с новым дизайном: 0.5000636646764286\n"
          ]
        }
      ],
      "source": [
        "print(\"Соотношение размеров тестовой и контрольной групп: {}\".format(n_rows_treat/n_rows_contr))\n",
        "\n",
        "print(\"Вероятность, что новый пользователь будет направлен на версию со старым дизайном: {}\".format(n_rows_contr/n_rows))\n",
        "print(\"Вероятность, что новый пользователь будет направлен на версию с новым дизайном: {}\".format(n_rows_treat/n_rows))\n"
      ]
    },
    {
      "cell_type": "markdown",
      "metadata": {
        "id": "ORB7gHw3-lta"
      },
      "source": [
        "**Задание**\n",
        "\n",
        "А теперь ответьте на главный вопрос данного этапа:  выявил ли предварительный анализ, что дизайн кнопки влияет на конверсию и если да, то как именно?"
      ]
    },
    {
      "cell_type": "markdown",
      "source": [
        "**Ответ:** предварительный анализ показал, что вероятность клика для посетителей из тестовой группы чуть ниже, чем в контрольной, при этом вероятность перенаправления пользователя на сайт с новым дизайном чуть выше. Отсюда следует, что изменение дизайна не сильно повлияло на конверсию. Стоит отметить, что отличия в вероятности клика наблюдаются в сотом знаке после запятой, поэтому необходимо провести дополнительное исследование."
      ],
      "metadata": {
        "id": "ILIcuWF4uIdi"
      }
    },
    {
      "cell_type": "markdown",
      "metadata": {
        "id": "63ZFf2FT-ltb"
      },
      "source": [
        "<a id='si1'></a>\n",
        "#### Формулировка рабочей гипотезы"
      ]
    },
    {
      "cell_type": "markdown",
      "metadata": {
        "id": "76-2Q9oh-ltb"
      },
      "source": [
        "Рабочая гипотеза в нашем случае может быть сформулирована, например, так: **\"Конверсия сайта со старым дизайном не меньше, чем с новым\"**."
      ]
    },
    {
      "cell_type": "markdown",
      "metadata": {
        "id": "UTPeiEN1-ltb"
      },
      "source": [
        "<a id='si2'></a>\n",
        "#### Формальное описание нулевой и альтернативной гипотез"
      ]
    },
    {
      "cell_type": "markdown",
      "metadata": {
        "id": "41QMxujG-ltb"
      },
      "source": [
        "$H_{0}$ : $\\theta_{new}$ <= $\\theta_{old}$ \n",
        "\n",
        "$H_{1}$ : $\\theta_{new}$ > $\\theta_{old}$ "
      ]
    },
    {
      "cell_type": "markdown",
      "metadata": {
        "id": "qyHMx20O-ltb"
      },
      "source": [
        "<a id='si1'></a>\n",
        "#### Выбор подходящего статистического теста (статистического критерия)"
      ]
    },
    {
      "cell_type": "markdown",
      "metadata": {
        "id": "qV49ZVmt-ltb"
      },
      "source": [
        "Истинные значения $\\theta_{new}$ и $\\theta_{old}$ мы найти не можем, но мы можем их сравнить. В этом помогут те самые две теоремы."
      ]
    },
    {
      "cell_type": "markdown",
      "metadata": {
        "id": "_h9hAZ18-ltc"
      },
      "source": [
        "\n",
        "\n",
        "\n",
        "\n",
        "\n",
        "На основании Закона больших чисел мы можем оценить средние значения случайных величин $\\theta_{new}$ и $\\theta_{old}$ на  генеральных совокупностях по их средним значениям на наших больших выборках."
      ]
    },
    {
      "cell_type": "markdown",
      "metadata": {
        "id": "9kDK8gEd-ltc"
      },
      "source": [
        "На основании Центральной предельной теоремы средние значения распределены нормально при больших объемах выборок."
      ]
    },
    {
      "cell_type": "markdown",
      "metadata": {
        "id": "pMT1DSIj-ltc"
      },
      "source": [
        "Чтобы выбрать для проверки наших гипотез подходящий статистический критерий, уясним задачу. Нам нужно выяснить, случайно или значимо отличаются средние значения, т.е. доли, кликнувших посетителей в контрольной и тестовой выборках."
      ]
    },
    {
      "cell_type": "markdown",
      "metadata": {
        "id": "x4saRv3C-ltc"
      },
      "source": [
        "<a id='si4'></a>\n",
        "#### Проведение вычислений. $Z$-критерий."
      ]
    },
    {
      "cell_type": "code",
      "execution_count": 19,
      "metadata": {
        "id": "VpV4OkX2-ltc",
        "colab": {
          "base_uri": "https://localhost:8080/"
        },
        "outputId": "2c8016ae-9e33-4bb6-cfae-8215164e274e"
      },
      "outputs": [
        {
          "output_type": "stream",
          "name": "stderr",
          "text": [
            "pandas.util.testing is deprecated. Use the functions in the public API at pandas.testing instead.\n"
          ]
        },
        {
          "output_type": "stream",
          "name": "stdout",
          "text": [
            "Z-статистика=-1.3116075339133115,  p_value=0.905173705140591\n"
          ]
        }
      ],
      "source": [
        "import statsmodels.api as sm\n",
        "import statsmodels\n",
        "\n",
        "convert_contr = sum(df.query(\"group == 'control'\")['converted'])\n",
        "convert_treat = sum(df.query(\"group == 'treatment'\")['converted'])\n",
        "\n",
        "z_score, p_value = sm.stats.proportions_ztest([convert_treat, convert_contr], [n_rows_treat, n_rows_contr], \n",
        "                                              alternative='larger')\n",
        "\n",
        "print(\"Z-статистика={},  p_value={}\".format(z_score, p_value))"
      ]
    },
    {
      "cell_type": "markdown",
      "metadata": {
        "id": "5_fAC5nOUiqh"
      },
      "source": [
        "#### Проведение вычислений. $T$-test."
      ]
    },
    {
      "cell_type": "code",
      "execution_count": 20,
      "metadata": {
        "id": "-g7AczG5Uiqi",
        "colab": {
          "base_uri": "https://localhost:8080/"
        },
        "outputId": "056d2aa5-1f25-4c0b-f1e7-fbf68ef46e1b"
      },
      "outputs": [
        {
          "output_type": "stream",
          "name": "stdout",
          "text": [
            "T-статистика=-1.3116059499580377,  p_value=0.9051729196326528\n"
          ]
        }
      ],
      "source": [
        "t_score, p_value, _ = statsmodels.stats.weightstats.ttest_ind(df.query(\"group == 'treatment'\")['converted'],\n",
        "                                                              df.query(\"group == 'control'\")['converted'],\n",
        "                                                              alternative=\"larger\",\n",
        "                                                              usevar='unequal')\n",
        "\n",
        "print(\"T-статистика={},  p_value={}\".format(t_score, p_value))"
      ]
    },
    {
      "cell_type": "markdown",
      "metadata": {
        "id": "vgQKrXuYUiqk"
      },
      "source": [
        "#### Проведение вычислений. $Mann–Whitney$-test."
      ]
    },
    {
      "cell_type": "code",
      "execution_count": 21,
      "metadata": {
        "id": "qAuIJzHiUiql",
        "colab": {
          "base_uri": "https://localhost:8080/"
        },
        "outputId": "fd377892-a026-4f5a-fa5b-021ed40c7b0b"
      },
      "outputs": [
        {
          "output_type": "stream",
          "name": "stdout",
          "text": [
            "W-статистика=10538288235.5,  p_value=0.9051733308476495\n"
          ]
        }
      ],
      "source": [
        "w_score, p_value = sp.stats.mannwhitneyu(df.query(\"group == 'treatment'\")['converted'], \n",
        "                         df.query(\"group == 'control'\")['converted'],\n",
        "                         alternative=\"greater\")\n",
        "\n",
        "print(\"W-статистика={},  p_value={}\".format(w_score, p_value))"
      ]
    },
    {
      "cell_type": "markdown",
      "metadata": {
        "id": "m_6025KyUiqn"
      },
      "source": [
        "**Задание**\n",
        "\n",
        "Посмотрели на результаты стат тестов, какая гипотеза оказалась верна?"
      ]
    },
    {
      "cell_type": "markdown",
      "source": [
        "**Ответ:** Чтобы принять или отвергнуть гипотезу, нужно обозначить уровень значимости $\\alpha$. Примем значение $\\alpha = 0.05$, тогда значение $Z$-критерия будет лежать в пределах от $-1,96$ до $+1,96$. А значение $p-value$ будет выше значения $\\alpha$. Связи с этим, мы не можем отвергнуть гипотезу $H_0$. Таким образом, заключим, что **конверсия сайта со старым дизайном не меньше, чем с новым**."
      ],
      "metadata": {
        "id": "D607h3UxxgO9"
      }
    },
    {
      "cell_type": "markdown",
      "metadata": {
        "id": "03JQLOJ2-ltd"
      },
      "source": [
        "<a id='m12'></a>\n",
        "### Ошибки первого и второго рода"
      ]
    },
    {
      "cell_type": "markdown",
      "metadata": {
        "id": "yTDRFQb3-lte"
      },
      "source": [
        "|  | | | |\n",
        "|----------|:---------|:--------|:---------|\n",
        "|  | | \tВерная гипотеза: | |\n",
        "|  |     | $H_0$   | $H_1$    |\n",
        "| Результат применения критерия: | $H_0$   |$H_0$ верно принята  |$H_0$ неверно принята (ошибка II рода)  |  \n",
        "|  |$H_1$   |$H_0$ неверно отвергнута(ошибка I рода)  | $H_0$ верно отвергнута   |\n",
        "\n"
      ]
    },
    {
      "cell_type": "markdown",
      "metadata": {
        "id": "q5HXVl1S-lte"
      },
      "source": [
        "Уровень значимости (статистическая значимость, statistical significance) $\\alpha$ - это и есть вероятность ошибки первого рода, т. е. вероятность принятия альтернативной гипотезы при условии, что на самом деле верна нулевая гипотеза. \n",
        "\n",
        "Обозначим  $\\beta$  вероятность ошибки второго рода. \n",
        "\n",
        "Величина  $1-\\beta$ называется *статистической мощностью* (statistical power) критерия. По сути мощность показывает, сколько значений, соответствующих альтернативной гипотезе, мы действительно отнесем к альтернативной гипотезе"
      ]
    },
    {
      "cell_type": "markdown",
      "metadata": {
        "id": "PV6c5eQ-Uiqp"
      },
      "source": [
        "![asd](https://habrastorage.org/files/475/9e5/ebc/4759e5ebcfc54b11a852704017d2d8ac.png)"
      ]
    },
    {
      "cell_type": "markdown",
      "metadata": {
        "id": "AdX__g14Uiqp"
      },
      "source": [
        "![mem](https://i2.wp.com/flowingdata.com/wp-content/uploads/2014/05/Type-I-and-II-errors1.jpg?fit=960%2C720&ssl=1)"
      ]
    },
    {
      "cell_type": "markdown",
      "metadata": {
        "id": "6d8yNdZ-Uiqq"
      },
      "source": [
        "### bootstrap  \n",
        "Сделаем стат выводы при помощи bootstrap-а"
      ]
    },
    {
      "cell_type": "code",
      "execution_count": 22,
      "metadata": {
        "id": "GPx_KgKCUiqq",
        "colab": {
          "base_uri": "https://localhost:8080/",
          "height": 206
        },
        "outputId": "b064fb5f-96d7-486e-e3bf-36b04dad6745"
      },
      "outputs": [
        {
          "output_type": "execute_result",
          "data": {
            "text/html": [
              "\n",
              "  <div id=\"df-dbf4d7d4-444b-433d-a3c1-2ee96cfe17e8\">\n",
              "    <div class=\"colab-df-container\">\n",
              "      <div>\n",
              "<style scoped>\n",
              "    .dataframe tbody tr th:only-of-type {\n",
              "        vertical-align: middle;\n",
              "    }\n",
              "\n",
              "    .dataframe tbody tr th {\n",
              "        vertical-align: top;\n",
              "    }\n",
              "\n",
              "    .dataframe thead th {\n",
              "        text-align: right;\n",
              "    }\n",
              "</style>\n",
              "<table border=\"1\" class=\"dataframe\">\n",
              "  <thead>\n",
              "    <tr style=\"text-align: right;\">\n",
              "      <th></th>\n",
              "      <th>user_id</th>\n",
              "      <th>timestamp</th>\n",
              "      <th>group</th>\n",
              "      <th>landing_page</th>\n",
              "      <th>converted</th>\n",
              "      <th>revenue</th>\n",
              "    </tr>\n",
              "  </thead>\n",
              "  <tbody>\n",
              "    <tr>\n",
              "      <th>0</th>\n",
              "      <td>851104</td>\n",
              "      <td>2017-01-21 22:11:48.556739</td>\n",
              "      <td>control</td>\n",
              "      <td>old_page</td>\n",
              "      <td>0</td>\n",
              "      <td>0</td>\n",
              "    </tr>\n",
              "    <tr>\n",
              "      <th>1</th>\n",
              "      <td>804228</td>\n",
              "      <td>2017-01-12 08:01:45.159739</td>\n",
              "      <td>control</td>\n",
              "      <td>old_page</td>\n",
              "      <td>0</td>\n",
              "      <td>0</td>\n",
              "    </tr>\n",
              "    <tr>\n",
              "      <th>2</th>\n",
              "      <td>661590</td>\n",
              "      <td>2017-01-11 16:55:06.154213</td>\n",
              "      <td>treatment</td>\n",
              "      <td>new_page</td>\n",
              "      <td>0</td>\n",
              "      <td>100</td>\n",
              "    </tr>\n",
              "    <tr>\n",
              "      <th>3</th>\n",
              "      <td>853541</td>\n",
              "      <td>2017-01-08 18:28:03.143765</td>\n",
              "      <td>treatment</td>\n",
              "      <td>new_page</td>\n",
              "      <td>0</td>\n",
              "      <td>0</td>\n",
              "    </tr>\n",
              "    <tr>\n",
              "      <th>4</th>\n",
              "      <td>864975</td>\n",
              "      <td>2017-01-21 01:52:26.210827</td>\n",
              "      <td>control</td>\n",
              "      <td>old_page</td>\n",
              "      <td>1</td>\n",
              "      <td>250</td>\n",
              "    </tr>\n",
              "  </tbody>\n",
              "</table>\n",
              "</div>\n",
              "      <button class=\"colab-df-convert\" onclick=\"convertToInteractive('df-dbf4d7d4-444b-433d-a3c1-2ee96cfe17e8')\"\n",
              "              title=\"Convert this dataframe to an interactive table.\"\n",
              "              style=\"display:none;\">\n",
              "        \n",
              "  <svg xmlns=\"http://www.w3.org/2000/svg\" height=\"24px\"viewBox=\"0 0 24 24\"\n",
              "       width=\"24px\">\n",
              "    <path d=\"M0 0h24v24H0V0z\" fill=\"none\"/>\n",
              "    <path d=\"M18.56 5.44l.94 2.06.94-2.06 2.06-.94-2.06-.94-.94-2.06-.94 2.06-2.06.94zm-11 1L8.5 8.5l.94-2.06 2.06-.94-2.06-.94L8.5 2.5l-.94 2.06-2.06.94zm10 10l.94 2.06.94-2.06 2.06-.94-2.06-.94-.94-2.06-.94 2.06-2.06.94z\"/><path d=\"M17.41 7.96l-1.37-1.37c-.4-.4-.92-.59-1.43-.59-.52 0-1.04.2-1.43.59L10.3 9.45l-7.72 7.72c-.78.78-.78 2.05 0 2.83L4 21.41c.39.39.9.59 1.41.59.51 0 1.02-.2 1.41-.59l7.78-7.78 2.81-2.81c.8-.78.8-2.07 0-2.86zM5.41 20L4 18.59l7.72-7.72 1.47 1.35L5.41 20z\"/>\n",
              "  </svg>\n",
              "      </button>\n",
              "      \n",
              "  <style>\n",
              "    .colab-df-container {\n",
              "      display:flex;\n",
              "      flex-wrap:wrap;\n",
              "      gap: 12px;\n",
              "    }\n",
              "\n",
              "    .colab-df-convert {\n",
              "      background-color: #E8F0FE;\n",
              "      border: none;\n",
              "      border-radius: 50%;\n",
              "      cursor: pointer;\n",
              "      display: none;\n",
              "      fill: #1967D2;\n",
              "      height: 32px;\n",
              "      padding: 0 0 0 0;\n",
              "      width: 32px;\n",
              "    }\n",
              "\n",
              "    .colab-df-convert:hover {\n",
              "      background-color: #E2EBFA;\n",
              "      box-shadow: 0px 1px 2px rgba(60, 64, 67, 0.3), 0px 1px 3px 1px rgba(60, 64, 67, 0.15);\n",
              "      fill: #174EA6;\n",
              "    }\n",
              "\n",
              "    [theme=dark] .colab-df-convert {\n",
              "      background-color: #3B4455;\n",
              "      fill: #D2E3FC;\n",
              "    }\n",
              "\n",
              "    [theme=dark] .colab-df-convert:hover {\n",
              "      background-color: #434B5C;\n",
              "      box-shadow: 0px 1px 3px 1px rgba(0, 0, 0, 0.15);\n",
              "      filter: drop-shadow(0px 1px 2px rgba(0, 0, 0, 0.3));\n",
              "      fill: #FFFFFF;\n",
              "    }\n",
              "  </style>\n",
              "\n",
              "      <script>\n",
              "        const buttonEl =\n",
              "          document.querySelector('#df-dbf4d7d4-444b-433d-a3c1-2ee96cfe17e8 button.colab-df-convert');\n",
              "        buttonEl.style.display =\n",
              "          google.colab.kernel.accessAllowed ? 'block' : 'none';\n",
              "\n",
              "        async function convertToInteractive(key) {\n",
              "          const element = document.querySelector('#df-dbf4d7d4-444b-433d-a3c1-2ee96cfe17e8');\n",
              "          const dataTable =\n",
              "            await google.colab.kernel.invokeFunction('convertToInteractive',\n",
              "                                                     [key], {});\n",
              "          if (!dataTable) return;\n",
              "\n",
              "          const docLinkHtml = 'Like what you see? Visit the ' +\n",
              "            '<a target=\"_blank\" href=https://colab.research.google.com/notebooks/data_table.ipynb>data table notebook</a>'\n",
              "            + ' to learn more about interactive tables.';\n",
              "          element.innerHTML = '';\n",
              "          dataTable['output_type'] = 'display_data';\n",
              "          await google.colab.output.renderOutput(dataTable, element);\n",
              "          const docLink = document.createElement('div');\n",
              "          docLink.innerHTML = docLinkHtml;\n",
              "          element.appendChild(docLink);\n",
              "        }\n",
              "      </script>\n",
              "    </div>\n",
              "  </div>\n",
              "  "
            ],
            "text/plain": [
              "   user_id                   timestamp  ... converted revenue\n",
              "0   851104  2017-01-21 22:11:48.556739  ...         0       0\n",
              "1   804228  2017-01-12 08:01:45.159739  ...         0       0\n",
              "2   661590  2017-01-11 16:55:06.154213  ...         0     100\n",
              "3   853541  2017-01-08 18:28:03.143765  ...         0       0\n",
              "4   864975  2017-01-21 01:52:26.210827  ...         1     250\n",
              "\n",
              "[5 rows x 6 columns]"
            ]
          },
          "metadata": {},
          "execution_count": 22
        }
      ],
      "source": [
        "df.head()"
      ]
    },
    {
      "cell_type": "code",
      "execution_count": 23,
      "metadata": {
        "id": "tKYttNNxUiqr",
        "colab": {
          "base_uri": "https://localhost:8080/",
          "height": 265
        },
        "outputId": "0c146450-5556-443d-d544-85b523ab028d"
      },
      "outputs": [
        {
          "output_type": "display_data",
          "data": {
            "image/png": "[encoded data removed]",
            "text/plain": [
              "<Figure size 432x288 with 1 Axes>"
            ]
          },
          "metadata": {
            "needs_background": "light"
          }
        }
      ],
      "source": [
        "plt.hist(df.loc[df['group']=='treatment', 'converted']);"
      ]
    },
    {
      "cell_type": "code",
      "execution_count": 24,
      "metadata": {
        "id": "T4zhXL8vUiqr",
        "colab": {
          "base_uri": "https://localhost:8080/",
          "height": 265
        },
        "outputId": "5f5080e6-d806-4ee4-f6a0-f648050b1f72"
      },
      "outputs": [
        {
          "output_type": "display_data",
          "data": {
            "image/png": "[encoded data removed]",
            "text/plain": [
              "<Figure size 432x288 with 1 Axes>"
            ]
          },
          "metadata": {
            "needs_background": "light"
          }
        }
      ],
      "source": [
        "plt.hist(df.loc[df['group']=='control', 'converted']);"
      ]
    },
    {
      "cell_type": "code",
      "execution_count": 25,
      "metadata": {
        "id": "cuhL7DSPUiqs"
      },
      "outputs": [],
      "source": [
        "b = df.loc[df['group']=='treatment', 'converted'].values\n",
        "a = df.loc[df['group']=='control', 'converted'].values"
      ]
    },
    {
      "cell_type": "code",
      "execution_count": 26,
      "metadata": {
        "id": "M3QGfDUtUiqt"
      },
      "outputs": [],
      "source": [
        "from sklearn.utils import resample\n",
        "\n",
        "a_means = []\n",
        "b_means = []\n",
        "\n",
        "for i in range(10000):\n",
        "    a_boot = resample(a, replace=True, n_samples=len(a))\n",
        "    b_boot = resample(b, replace=True, n_samples=len(b))\n",
        "    \n",
        "    a_means.append(a_boot.mean())\n",
        "    b_means.append(b_boot.mean())\n",
        "    \n",
        "a_means = np.array(a_means)\n",
        "b_means = np.array(b_means)"
      ]
    },
    {
      "cell_type": "code",
      "execution_count": 27,
      "metadata": {
        "id": "pH6RhpMWUiqu",
        "colab": {
          "base_uri": "https://localhost:8080/",
          "height": 265
        },
        "outputId": "444da411-093b-4a2d-b430-d42a232fba7e"
      },
      "outputs": [
        {
          "output_type": "display_data",
          "data": {
            "image/png": "[encoded data removed]",
            "text/plain": [
              "<Figure size 432x288 with 1 Axes>"
            ]
          },
          "metadata": {
            "needs_background": "light"
          }
        }
      ],
      "source": [
        "plt.hist(a_means, label='A conv', alpha=0.5, bins=100)\n",
        "plt.hist(b_means, label='B conv', alpha=0.5, bins=100)\n",
        "\n",
        "plt.legend()\n",
        "plt.show()"
      ]
    },
    {
      "cell_type": "code",
      "execution_count": 28,
      "metadata": {
        "id": "btogcJyUUiqv",
        "colab": {
          "base_uri": "https://localhost:8080/"
        },
        "outputId": "a3b7e683-20bb-41f2-858f-77a9d5f189f7"
      },
      "outputs": [
        {
          "output_type": "execute_result",
          "data": {
            "text/plain": [
              "(0.1186929526274488, 0.12203835510827815)"
            ]
          },
          "metadata": {},
          "execution_count": 28
        }
      ],
      "source": [
        "# Доверительный интервал\n",
        "np.percentile(a_means, 2.5), np.percentile(a_means, 97.5)"
      ]
    },
    {
      "cell_type": "code",
      "execution_count": 29,
      "metadata": {
        "id": "IAnxIMDdUiqv",
        "colab": {
          "base_uri": "https://localhost:8080/",
          "height": 267
        },
        "outputId": "1c053e03-f3fb-4f67-e5cb-c777d2f2aa2b"
      },
      "outputs": [
        {
          "output_type": "display_data",
          "data": {
            "image/png": "[encoded data removed]",
            "text/plain": [
              "<Figure size 432x288 with 1 Axes>"
            ]
          },
          "metadata": {
            "needs_background": "light"
          }
        }
      ],
      "source": [
        "plt.hist(a_means - b_means, bins=100)\n",
        "plt.show()"
      ]
    },
    {
      "cell_type": "code",
      "execution_count": 30,
      "metadata": {
        "id": "Upzm0U_ZUiqw",
        "colab": {
          "base_uri": "https://localhost:8080/"
        },
        "outputId": "dc9842c2-8f79-4764-ad02-1bf2c9ed0381"
      },
      "outputs": [
        {
          "output_type": "execute_result",
          "data": {
            "text/plain": [
              "0.9062"
            ]
          },
          "metadata": {},
          "execution_count": 30
        }
      ],
      "source": [
        "# Сделаем оценку на p_value\n",
        "dff = a_means - b_means\n",
        "\n",
        "len(dff[dff>=0])/len(dff)"
      ]
    },
    {
      "cell_type": "markdown",
      "source": [
        "**Вывод:** Новый дизайн не увеличил конверсию сайта."
      ],
      "metadata": {
        "id": "1SrlbYuC7eTb"
      }
    },
    {
      "cell_type": "markdown",
      "source": [
        "## **Исследование увеличения среднего чека**"
      ],
      "metadata": {
        "id": "C9XZGKee8GWX"
      }
    },
    {
      "cell_type": "markdown",
      "metadata": {
        "id": "zIVCgl6wUiqM"
      },
      "source": [
        "**Задание**\n",
        "\n",
        "Провести аналогичные исследования но для чека покупок клиентов (колонки `revenue`)  \n",
        "в интернет магазине есть 2-ва типа продуктов:\n",
        "* 100 руб.\n",
        "* 250 руб.\n",
        "\n",
        "ну и конечно клиент может ничего не купить  \n",
        "провести исследование изменился ли средний чек"
      ]
    },
    {
      "cell_type": "markdown",
      "metadata": {
        "id": "Zpw_WPj18GW2"
      },
      "source": [
        " <a id='eda'></a>\n",
        "### Первичный анализ данных"
      ]
    },
    {
      "cell_type": "code",
      "source": [
        "df.head()"
      ],
      "metadata": {
        "colab": {
          "base_uri": "https://localhost:8080/",
          "height": 206
        },
        "id": "68aH8NKB940r",
        "outputId": "8caae5d4-3ff7-4521-9092-f0318f6a5f07"
      },
      "execution_count": 50,
      "outputs": [
        {
          "output_type": "execute_result",
          "data": {
            "text/html": [
              "\n",
              "  <div id=\"df-8550cfb6-3872-4b13-9c2e-36ccb8ae4ea3\">\n",
              "    <div class=\"colab-df-container\">\n",
              "      <div>\n",
              "<style scoped>\n",
              "    .dataframe tbody tr th:only-of-type {\n",
              "        vertical-align: middle;\n",
              "    }\n",
              "\n",
              "    .dataframe tbody tr th {\n",
              "        vertical-align: top;\n",
              "    }\n",
              "\n",
              "    .dataframe thead th {\n",
              "        text-align: right;\n",
              "    }\n",
              "</style>\n",
              "<table border=\"1\" class=\"dataframe\">\n",
              "  <thead>\n",
              "    <tr style=\"text-align: right;\">\n",
              "      <th></th>\n",
              "      <th>user_id</th>\n",
              "      <th>timestamp</th>\n",
              "      <th>group</th>\n",
              "      <th>landing_page</th>\n",
              "      <th>converted</th>\n",
              "      <th>revenue</th>\n",
              "    </tr>\n",
              "  </thead>\n",
              "  <tbody>\n",
              "    <tr>\n",
              "      <th>0</th>\n",
              "      <td>851104</td>\n",
              "      <td>2017-01-21 22:11:48.556739</td>\n",
              "      <td>control</td>\n",
              "      <td>old_page</td>\n",
              "      <td>0</td>\n",
              "      <td>0</td>\n",
              "    </tr>\n",
              "    <tr>\n",
              "      <th>1</th>\n",
              "      <td>804228</td>\n",
              "      <td>2017-01-12 08:01:45.159739</td>\n",
              "      <td>control</td>\n",
              "      <td>old_page</td>\n",
              "      <td>0</td>\n",
              "      <td>0</td>\n",
              "    </tr>\n",
              "    <tr>\n",
              "      <th>2</th>\n",
              "      <td>661590</td>\n",
              "      <td>2017-01-11 16:55:06.154213</td>\n",
              "      <td>treatment</td>\n",
              "      <td>new_page</td>\n",
              "      <td>0</td>\n",
              "      <td>100</td>\n",
              "    </tr>\n",
              "    <tr>\n",
              "      <th>3</th>\n",
              "      <td>853541</td>\n",
              "      <td>2017-01-08 18:28:03.143765</td>\n",
              "      <td>treatment</td>\n",
              "      <td>new_page</td>\n",
              "      <td>0</td>\n",
              "      <td>0</td>\n",
              "    </tr>\n",
              "    <tr>\n",
              "      <th>4</th>\n",
              "      <td>864975</td>\n",
              "      <td>2017-01-21 01:52:26.210827</td>\n",
              "      <td>control</td>\n",
              "      <td>old_page</td>\n",
              "      <td>1</td>\n",
              "      <td>250</td>\n",
              "    </tr>\n",
              "  </tbody>\n",
              "</table>\n",
              "</div>\n",
              "      <button class=\"colab-df-convert\" onclick=\"convertToInteractive('df-8550cfb6-3872-4b13-9c2e-36ccb8ae4ea3')\"\n",
              "              title=\"Convert this dataframe to an interactive table.\"\n",
              "              style=\"display:none;\">\n",
              "        \n",
              "  <svg xmlns=\"http://www.w3.org/2000/svg\" height=\"24px\"viewBox=\"0 0 24 24\"\n",
              "       width=\"24px\">\n",
              "    <path d=\"M0 0h24v24H0V0z\" fill=\"none\"/>\n",
              "    <path d=\"M18.56 5.44l.94 2.06.94-2.06 2.06-.94-2.06-.94-.94-2.06-.94 2.06-2.06.94zm-11 1L8.5 8.5l.94-2.06 2.06-.94-2.06-.94L8.5 2.5l-.94 2.06-2.06.94zm10 10l.94 2.06.94-2.06 2.06-.94-2.06-.94-.94-2.06-.94 2.06-2.06.94z\"/><path d=\"M17.41 7.96l-1.37-1.37c-.4-.4-.92-.59-1.43-.59-.52 0-1.04.2-1.43.59L10.3 9.45l-7.72 7.72c-.78.78-.78 2.05 0 2.83L4 21.41c.39.39.9.59 1.41.59.51 0 1.02-.2 1.41-.59l7.78-7.78 2.81-2.81c.8-.78.8-2.07 0-2.86zM5.41 20L4 18.59l7.72-7.72 1.47 1.35L5.41 20z\"/>\n",
              "  </svg>\n",
              "      </button>\n",
              "      \n",
              "  <style>\n",
              "    .colab-df-container {\n",
              "      display:flex;\n",
              "      flex-wrap:wrap;\n",
              "      gap: 12px;\n",
              "    }\n",
              "\n",
              "    .colab-df-convert {\n",
              "      background-color: #E8F0FE;\n",
              "      border: none;\n",
              "      border-radius: 50%;\n",
              "      cursor: pointer;\n",
              "      display: none;\n",
              "      fill: #1967D2;\n",
              "      height: 32px;\n",
              "      padding: 0 0 0 0;\n",
              "      width: 32px;\n",
              "    }\n",
              "\n",
              "    .colab-df-convert:hover {\n",
              "      background-color: #E2EBFA;\n",
              "      box-shadow: 0px 1px 2px rgba(60, 64, 67, 0.3), 0px 1px 3px 1px rgba(60, 64, 67, 0.15);\n",
              "      fill: #174EA6;\n",
              "    }\n",
              "\n",
              "    [theme=dark] .colab-df-convert {\n",
              "      background-color: #3B4455;\n",
              "      fill: #D2E3FC;\n",
              "    }\n",
              "\n",
              "    [theme=dark] .colab-df-convert:hover {\n",
              "      background-color: #434B5C;\n",
              "      box-shadow: 0px 1px 3px 1px rgba(0, 0, 0, 0.15);\n",
              "      filter: drop-shadow(0px 1px 2px rgba(0, 0, 0, 0.3));\n",
              "      fill: #FFFFFF;\n",
              "    }\n",
              "  </style>\n",
              "\n",
              "      <script>\n",
              "        const buttonEl =\n",
              "          document.querySelector('#df-8550cfb6-3872-4b13-9c2e-36ccb8ae4ea3 button.colab-df-convert');\n",
              "        buttonEl.style.display =\n",
              "          google.colab.kernel.accessAllowed ? 'block' : 'none';\n",
              "\n",
              "        async function convertToInteractive(key) {\n",
              "          const element = document.querySelector('#df-8550cfb6-3872-4b13-9c2e-36ccb8ae4ea3');\n",
              "          const dataTable =\n",
              "            await google.colab.kernel.invokeFunction('convertToInteractive',\n",
              "                                                     [key], {});\n",
              "          if (!dataTable) return;\n",
              "\n",
              "          const docLinkHtml = 'Like what you see? Visit the ' +\n",
              "            '<a target=\"_blank\" href=https://colab.research.google.com/notebooks/data_table.ipynb>data table notebook</a>'\n",
              "            + ' to learn more about interactive tables.';\n",
              "          element.innerHTML = '';\n",
              "          dataTable['output_type'] = 'display_data';\n",
              "          await google.colab.output.renderOutput(dataTable, element);\n",
              "          const docLink = document.createElement('div');\n",
              "          docLink.innerHTML = docLinkHtml;\n",
              "          element.appendChild(docLink);\n",
              "        }\n",
              "      </script>\n",
              "    </div>\n",
              "  </div>\n",
              "  "
            ],
            "text/plain": [
              "   user_id                   timestamp  ... converted revenue\n",
              "0   851104  2017-01-21 22:11:48.556739  ...         0       0\n",
              "1   804228  2017-01-12 08:01:45.159739  ...         0       0\n",
              "2   661590  2017-01-11 16:55:06.154213  ...         0     100\n",
              "3   853541  2017-01-08 18:28:03.143765  ...         0       0\n",
              "4   864975  2017-01-21 01:52:26.210827  ...         1     250\n",
              "\n",
              "[5 rows x 6 columns]"
            ]
          },
          "metadata": {},
          "execution_count": 50
        }
      ]
    },
    {
      "cell_type": "markdown",
      "metadata": {
        "collapsed": true,
        "id": "3plfNf488GW-"
      },
      "source": [
        "Средний чек по всем посетителям."
      ]
    },
    {
      "cell_type": "code",
      "execution_count": 51,
      "metadata": {
        "colab": {
          "base_uri": "https://localhost:8080/"
        },
        "outputId": "d6dd84e2-643a-496c-8916-1421f3b01b05",
        "id": "B8bzQ-6-8GW_"
      },
      "outputs": [
        {
          "output_type": "stream",
          "name": "stdout",
          "text": [
            "Средний чек по всем посетителям: 101.98272450401775 %\n"
          ]
        }
      ],
      "source": [
        "r_all = df['revenue'].mean()\n",
        "print(\"Средний чек по всем посетителям: {} %\".format(r_all))"
      ]
    },
    {
      "cell_type": "code",
      "execution_count": 52,
      "metadata": {
        "colab": {
          "base_uri": "https://localhost:8080/",
          "height": 175
        },
        "outputId": "b09d2dc2-4959-43ff-ab35-ad88d60c4ebb",
        "id": "A4mkbAqX8GXB"
      },
      "outputs": [
        {
          "output_type": "execute_result",
          "data": {
            "text/html": [
              "\n",
              "  <div id=\"df-1003c4f9-1414-4d09-8b18-4df68e0acdd0\">\n",
              "    <div class=\"colab-df-container\">\n",
              "      <div>\n",
              "<style scoped>\n",
              "    .dataframe tbody tr th:only-of-type {\n",
              "        vertical-align: middle;\n",
              "    }\n",
              "\n",
              "    .dataframe tbody tr th {\n",
              "        vertical-align: top;\n",
              "    }\n",
              "\n",
              "    .dataframe thead tr th {\n",
              "        text-align: left;\n",
              "    }\n",
              "\n",
              "    .dataframe thead tr:last-of-type th {\n",
              "        text-align: right;\n",
              "    }\n",
              "</style>\n",
              "<table border=\"1\" class=\"dataframe\">\n",
              "  <thead>\n",
              "    <tr>\n",
              "      <th></th>\n",
              "      <th colspan=\"8\" halign=\"left\">user_id</th>\n",
              "      <th colspan=\"8\" halign=\"left\">converted</th>\n",
              "      <th colspan=\"8\" halign=\"left\">revenue</th>\n",
              "    </tr>\n",
              "    <tr>\n",
              "      <th></th>\n",
              "      <th>count</th>\n",
              "      <th>mean</th>\n",
              "      <th>std</th>\n",
              "      <th>min</th>\n",
              "      <th>25%</th>\n",
              "      <th>50%</th>\n",
              "      <th>75%</th>\n",
              "      <th>max</th>\n",
              "      <th>count</th>\n",
              "      <th>mean</th>\n",
              "      <th>std</th>\n",
              "      <th>min</th>\n",
              "      <th>25%</th>\n",
              "      <th>50%</th>\n",
              "      <th>75%</th>\n",
              "      <th>max</th>\n",
              "      <th>count</th>\n",
              "      <th>mean</th>\n",
              "      <th>std</th>\n",
              "      <th>min</th>\n",
              "      <th>25%</th>\n",
              "      <th>50%</th>\n",
              "      <th>75%</th>\n",
              "      <th>max</th>\n",
              "    </tr>\n",
              "    <tr>\n",
              "      <th>group</th>\n",
              "      <th></th>\n",
              "      <th></th>\n",
              "      <th></th>\n",
              "      <th></th>\n",
              "      <th></th>\n",
              "      <th></th>\n",
              "      <th></th>\n",
              "      <th></th>\n",
              "      <th></th>\n",
              "      <th></th>\n",
              "      <th></th>\n",
              "      <th></th>\n",
              "      <th></th>\n",
              "      <th></th>\n",
              "      <th></th>\n",
              "      <th></th>\n",
              "      <th></th>\n",
              "      <th></th>\n",
              "      <th></th>\n",
              "      <th></th>\n",
              "      <th></th>\n",
              "      <th></th>\n",
              "      <th></th>\n",
              "      <th></th>\n",
              "    </tr>\n",
              "  </thead>\n",
              "  <tbody>\n",
              "    <tr>\n",
              "      <th>control</th>\n",
              "      <td>145274.0</td>\n",
              "      <td>788164.072594</td>\n",
              "      <td>91287.914601</td>\n",
              "      <td>630002.0</td>\n",
              "      <td>709279.5</td>\n",
              "      <td>788128.5</td>\n",
              "      <td>867208.25</td>\n",
              "      <td>945998.0</td>\n",
              "      <td>145274.0</td>\n",
              "      <td>0.120386</td>\n",
              "      <td>0.325414</td>\n",
              "      <td>0.0</td>\n",
              "      <td>0.0</td>\n",
              "      <td>0.0</td>\n",
              "      <td>0.0</td>\n",
              "      <td>1.0</td>\n",
              "      <td>145274.0</td>\n",
              "      <td>87.466787</td>\n",
              "      <td>102.443512</td>\n",
              "      <td>0.0</td>\n",
              "      <td>0.0</td>\n",
              "      <td>0.0</td>\n",
              "      <td>250.0</td>\n",
              "      <td>250.0</td>\n",
              "    </tr>\n",
              "    <tr>\n",
              "      <th>treatment</th>\n",
              "      <td>145311.0</td>\n",
              "      <td>787845.618446</td>\n",
              "      <td>91161.258854</td>\n",
              "      <td>630000.0</td>\n",
              "      <td>708746.5</td>\n",
              "      <td>787874.0</td>\n",
              "      <td>866718.50</td>\n",
              "      <td>945999.0</td>\n",
              "      <td>145311.0</td>\n",
              "      <td>0.118807</td>\n",
              "      <td>0.323563</td>\n",
              "      <td>0.0</td>\n",
              "      <td>0.0</td>\n",
              "      <td>0.0</td>\n",
              "      <td>0.0</td>\n",
              "      <td>1.0</td>\n",
              "      <td>145311.0</td>\n",
              "      <td>116.494966</td>\n",
              "      <td>102.727521</td>\n",
              "      <td>0.0</td>\n",
              "      <td>0.0</td>\n",
              "      <td>100.0</td>\n",
              "      <td>250.0</td>\n",
              "      <td>250.0</td>\n",
              "    </tr>\n",
              "  </tbody>\n",
              "</table>\n",
              "</div>\n",
              "      <button class=\"colab-df-convert\" onclick=\"convertToInteractive('df-1003c4f9-1414-4d09-8b18-4df68e0acdd0')\"\n",
              "              title=\"Convert this dataframe to an interactive table.\"\n",
              "              style=\"display:none;\">\n",
              "        \n",
              "  <svg xmlns=\"http://www.w3.org/2000/svg\" height=\"24px\"viewBox=\"0 0 24 24\"\n",
              "       width=\"24px\">\n",
              "    <path d=\"M0 0h24v24H0V0z\" fill=\"none\"/>\n",
              "    <path d=\"M18.56 5.44l.94 2.06.94-2.06 2.06-.94-2.06-.94-.94-2.06-.94 2.06-2.06.94zm-11 1L8.5 8.5l.94-2.06 2.06-.94-2.06-.94L8.5 2.5l-.94 2.06-2.06.94zm10 10l.94 2.06.94-2.06 2.06-.94-2.06-.94-.94-2.06-.94 2.06-2.06.94z\"/><path d=\"M17.41 7.96l-1.37-1.37c-.4-.4-.92-.59-1.43-.59-.52 0-1.04.2-1.43.59L10.3 9.45l-7.72 7.72c-.78.78-.78 2.05 0 2.83L4 21.41c.39.39.9.59 1.41.59.51 0 1.02-.2 1.41-.59l7.78-7.78 2.81-2.81c.8-.78.8-2.07 0-2.86zM5.41 20L4 18.59l7.72-7.72 1.47 1.35L5.41 20z\"/>\n",
              "  </svg>\n",
              "      </button>\n",
              "      \n",
              "  <style>\n",
              "    .colab-df-container {\n",
              "      display:flex;\n",
              "      flex-wrap:wrap;\n",
              "      gap: 12px;\n",
              "    }\n",
              "\n",
              "    .colab-df-convert {\n",
              "      background-color: #E8F0FE;\n",
              "      border: none;\n",
              "      border-radius: 50%;\n",
              "      cursor: pointer;\n",
              "      display: none;\n",
              "      fill: #1967D2;\n",
              "      height: 32px;\n",
              "      padding: 0 0 0 0;\n",
              "      width: 32px;\n",
              "    }\n",
              "\n",
              "    .colab-df-convert:hover {\n",
              "      background-color: #E2EBFA;\n",
              "      box-shadow: 0px 1px 2px rgba(60, 64, 67, 0.3), 0px 1px 3px 1px rgba(60, 64, 67, 0.15);\n",
              "      fill: #174EA6;\n",
              "    }\n",
              "\n",
              "    [theme=dark] .colab-df-convert {\n",
              "      background-color: #3B4455;\n",
              "      fill: #D2E3FC;\n",
              "    }\n",
              "\n",
              "    [theme=dark] .colab-df-convert:hover {\n",
              "      background-color: #434B5C;\n",
              "      box-shadow: 0px 1px 3px 1px rgba(0, 0, 0, 0.15);\n",
              "      filter: drop-shadow(0px 1px 2px rgba(0, 0, 0, 0.3));\n",
              "      fill: #FFFFFF;\n",
              "    }\n",
              "  </style>\n",
              "\n",
              "      <script>\n",
              "        const buttonEl =\n",
              "          document.querySelector('#df-1003c4f9-1414-4d09-8b18-4df68e0acdd0 button.colab-df-convert');\n",
              "        buttonEl.style.display =\n",
              "          google.colab.kernel.accessAllowed ? 'block' : 'none';\n",
              "\n",
              "        async function convertToInteractive(key) {\n",
              "          const element = document.querySelector('#df-1003c4f9-1414-4d09-8b18-4df68e0acdd0');\n",
              "          const dataTable =\n",
              "            await google.colab.kernel.invokeFunction('convertToInteractive',\n",
              "                                                     [key], {});\n",
              "          if (!dataTable) return;\n",
              "\n",
              "          const docLinkHtml = 'Like what you see? Visit the ' +\n",
              "            '<a target=\"_blank\" href=https://colab.research.google.com/notebooks/data_table.ipynb>data table notebook</a>'\n",
              "            + ' to learn more about interactive tables.';\n",
              "          element.innerHTML = '';\n",
              "          dataTable['output_type'] = 'display_data';\n",
              "          await google.colab.output.renderOutput(dataTable, element);\n",
              "          const docLink = document.createElement('div');\n",
              "          docLink.innerHTML = docLinkHtml;\n",
              "          element.appendChild(docLink);\n",
              "        }\n",
              "      </script>\n",
              "    </div>\n",
              "  </div>\n",
              "  "
            ],
            "text/plain": [
              "            user_id                               ... revenue              \n",
              "              count           mean           std  ...     50%    75%    max\n",
              "group                                             ...                      \n",
              "control    145274.0  788164.072594  91287.914601  ...     0.0  250.0  250.0\n",
              "treatment  145311.0  787845.618446  91161.258854  ...   100.0  250.0  250.0\n",
              "\n",
              "[2 rows x 24 columns]"
            ]
          },
          "metadata": {},
          "execution_count": 52
        }
      ],
      "source": [
        "df_grp = df.groupby('group')\n",
        "df_grp.describe()"
      ]
    },
    {
      "cell_type": "code",
      "source": [
        "print(\"Средний чек контрольной группы: {}\".format((df[df['group'] == 'control']['revenue']).mean()))  # mean --> revenue\n",
        "print(\"Средний чек тестовой группы: {}\".format((df[df['group'] == 'treatment']['revenue']).mean()))  # mean --> revenue"
      ],
      "metadata": {
        "colab": {
          "base_uri": "https://localhost:8080/"
        },
        "id": "Vvz8dhTkBpY2",
        "outputId": "58ca3eb7-7fae-4022-9f2c-0d4fcb106644"
      },
      "execution_count": 53,
      "outputs": [
        {
          "output_type": "stream",
          "name": "stdout",
          "text": [
            "Средний чек контрольной группы: 87.46678689923868\n",
            "Средний чек тестовой группы: 116.49496596954118\n"
          ]
        }
      ]
    },
    {
      "cell_type": "code",
      "source": [
        "# Объем контрольной группы со средним чеком 0\n",
        "n_rows_contr_rev_0 = len(df.query(\"group == 'control' and revenue == 0\"))\n",
        "\n",
        "# Объем контрольной группы со средним чеком 100\n",
        "n_rows_contr_rev_100 = len(df.query(\"group == 'control' and revenue == 100\"))\n",
        "\n",
        "# Объем контрольной группы со средним чеком 250\n",
        "n_rows_contr_rev_250 = len(df.query(\"group == 'control' and revenue == 250\"))\n",
        "\n",
        "# Объем тестовой группы со средним чеком 0\n",
        "n_rows_treat_rev_0 = len(df.query(\"group == 'treatment' and revenue == 0\"))\n",
        "\n",
        "# Объем тестовой группы со средним чеком 100\n",
        "n_rows_treat_rev_100 = len(df.query(\"group == 'treatment' and revenue == 100\"))\n",
        "\n",
        "# Объем тестовой группы со средним чеком 250\n",
        "n_rows_treat_rev_250 = len(df.query(\"group == 'treatment' and revenue == 250\"))"
      ],
      "metadata": {
        "id": "omC_A9Gw8GXC"
      },
      "execution_count": 54,
      "outputs": []
    },
    {
      "cell_type": "code",
      "source": [
        "print(\"Доля посетителей со средним чеком 0 контрольной группы (старый дизайн): {}\".format(n_rows_contr_rev_0/n_rows_contr))\n",
        "print(\"Доля посетителей со средним чеком 100 контрольной группы (старый дизайн): {}\".format(n_rows_contr_rev_100/n_rows_contr))\n",
        "print(\"Доля посетителей со средним чеком 250 контрольной группы (старый дизайн): {}\".format(n_rows_contr_rev_250/n_rows_contr))"
      ],
      "metadata": {
        "colab": {
          "base_uri": "https://localhost:8080/"
        },
        "id": "pZP5jkwJBVN6",
        "outputId": "d3d7647b-164b-4099-b99d-0ccb7f267046"
      },
      "execution_count": 55,
      "outputs": [
        {
          "output_type": "stream",
          "name": "stdout",
          "text": [
            "Доля посетителей со средним чеком 0 контрольной группы (старый дизайн): 0.5012665721326597\n",
            "Доля посетителей со средним чеком 100 контрольной группы (старый дизайн): 0.24811046711730936\n",
            "Доля посетителей со средним чеком 250 контрольной группы (старый дизайн): 0.250622960750031\n"
          ]
        }
      ]
    },
    {
      "cell_type": "code",
      "source": [
        "print(\"Доля посетителей со средним чеком 0 тестовой группы (новый дизайн): {}\".format(n_rows_treat_rev_0/n_rows_treat))\n",
        "print(\"Доля посетителей со средним чеком 100 тестовой группы (новый дизайн): {}\".format(n_rows_treat_rev_100/n_rows_treat))\n",
        "print(\"Доля посетителей со средним чеком 250 тестовой группы (новый дизайн): {}\".format(n_rows_treat_rev_250/n_rows_treat))"
      ],
      "metadata": {
        "colab": {
          "base_uri": "https://localhost:8080/"
        },
        "id": "ccxE9e6eDX7N",
        "outputId": "750c0ce5-4dfd-4b97-c1ce-de58154c4421"
      },
      "execution_count": 56,
      "outputs": [
        {
          "output_type": "stream",
          "name": "stdout",
          "text": [
            "Доля посетителей со средним чеком 0 тестовой группы (новый дизайн): 0.3340283942715968\n",
            "Доля посетителей со средним чеком 100 тестовой группы (новый дизайн): 0.33331956975039745\n",
            "Доля посетителей со средним чеком 250 тестовой группы (новый дизайн): 0.3326520359780058\n"
          ]
        }
      ]
    },
    {
      "cell_type": "markdown",
      "source": [
        "**Вывод:** предварительный анализ показал, что средний чек у тестовой группы выше, чем у контрольной. Как по общему показателю, так и в разрезе сумм 100 и 250. Также у тестовой группы меньше доля посетителей без покупок."
      ],
      "metadata": {
        "id": "GQ6j0n0v8GXF"
      }
    },
    {
      "cell_type": "markdown",
      "metadata": {
        "id": "ZB-BtylW8GXF"
      },
      "source": [
        "<a id='si1'></a>\n",
        "#### Формулировка рабочей гипотезы"
      ]
    },
    {
      "cell_type": "markdown",
      "metadata": {
        "id": "DW_R_5Ji8GXG"
      },
      "source": [
        "Рабочая гипотеза может быть сформулирована так: **\"Средний чек при старом дизайне не ниже, чем при новом\"**."
      ]
    },
    {
      "cell_type": "markdown",
      "metadata": {
        "id": "GHoP2LOL8GXG"
      },
      "source": [
        "<a id='si2'></a>\n",
        "#### Формальное описание нулевой и альтернативной гипотез"
      ]
    },
    {
      "cell_type": "markdown",
      "metadata": {
        "id": "9aq5PPnt8GXH"
      },
      "source": [
        "$H_{0}$ : $\\theta_{new}$ <= $\\theta_{old}$ \n",
        "\n",
        "$H_{1}$ : $\\theta_{new}$ > $\\theta_{old}$ "
      ]
    },
    {
      "cell_type": "markdown",
      "metadata": {
        "id": "UGgkLMEk8GXH"
      },
      "source": [
        "<a id='si1'></a>\n",
        "#### Выбор подходящего статистического теста (статистического критерия)"
      ]
    },
    {
      "cell_type": "markdown",
      "metadata": {
        "id": "xtfLd5oA8GXJ"
      },
      "source": [
        "Задача выяснить, случайно или значимо отличаются средние значения покупок в контрольной и тестовой выборках."
      ]
    },
    {
      "cell_type": "code",
      "source": [
        "plt.figure(figsize=(10,5), dpi= 80)\n",
        "sns.distplot(df.loc[df['group'] == 'control', \"revenue\"], color=\"black\", label=\"control\", hist_kws={'alpha':.9}, kde_kws={'linewidth':3})\n",
        "sns.distplot(df.loc[df['group'] == 'treatment', \"revenue\"], color=\"red\", label=\"treatment\", hist_kws={'alpha':.7}, kde_kws={'linewidth':3})\n",
        "\n",
        "plt.title('Распределение покупок в контрольной и тестовой выборке', fontsize=14)\n",
        "plt.legend()\n",
        "plt.show()"
      ],
      "metadata": {
        "colab": {
          "base_uri": "https://localhost:8080/",
          "height": 422
        },
        "id": "zUnE7q_WHZcy",
        "outputId": "311f1d9e-0b45-4b0f-f7f5-ddf5ff6b6dc8"
      },
      "execution_count": 57,
      "outputs": [
        {
          "output_type": "stream",
          "name": "stderr",
          "text": [
            "`distplot` is a deprecated function and will be removed in a future version. Please adapt your code to use either `displot` (a figure-level function with similar flexibility) or `histplot` (an axes-level function for histograms).\n",
            "`distplot` is a deprecated function and will be removed in a future version. Please adapt your code to use either `displot` (a figure-level function with similar flexibility) or `histplot` (an axes-level function for histograms).\n"
          ]
        },
        {
          "output_type": "display_data",
          "data": {
            "image/png": "[encoded data removed]",
            "text/plain": [
              "<Figure size 800x400 with 1 Axes>"
            ]
          },
          "metadata": {
            "needs_background": "light"
          }
        }
      ]
    },
    {
      "cell_type": "markdown",
      "metadata": {
        "id": "jEzAmwu_8GXK"
      },
      "source": [
        "<a id='si4'></a>\n",
        "#### Проведение вычислений. $Z$-критерий."
      ]
    },
    {
      "cell_type": "code",
      "execution_count": 58,
      "metadata": {
        "id": "g9WEb9R38GXK",
        "colab": {
          "base_uri": "https://localhost:8080/"
        },
        "outputId": "2372790b-615c-4bf5-811b-a01b2ce46ae8"
      },
      "outputs": [
        {
          "output_type": "stream",
          "name": "stdout",
          "text": [
            "Z-статистика=91.39989084875799,  p_value=0.0\n"
          ]
        }
      ],
      "source": [
        "import statsmodels.api as sm\n",
        "import statsmodels\n",
        "\n",
        "revenue_contr_len = len(df.query(\"group == 'control' and revenue != 0\"))\n",
        "revenue_treat_len = len(df.query(\"group == 'treatment' and revenue != 0\"))\n",
        "\n",
        "z_score, p_value = sm.stats.proportions_ztest([revenue_treat_len,revenue_contr_len], [n_rows_treat, n_rows_contr], \n",
        "                                              alternative='larger')\n",
        "\n",
        "print(\"Z-статистика={},  p_value={}\".format(z_score, p_value))\n"
      ]
    },
    {
      "cell_type": "markdown",
      "metadata": {
        "id": "3BeYEBj58GXL"
      },
      "source": [
        "#### Проведение вычислений. $T$-test."
      ]
    },
    {
      "cell_type": "code",
      "execution_count": 59,
      "metadata": {
        "id": "xHGclOea8GXM",
        "colab": {
          "base_uri": "https://localhost:8080/"
        },
        "outputId": "52245a72-34fd-4305-d96e-d368b67e67b6"
      },
      "outputs": [
        {
          "output_type": "stream",
          "name": "stdout",
          "text": [
            "T-статистика=76.26758637238547,  p_value=0.0\n"
          ]
        }
      ],
      "source": [
        "revenue_contr = df.query(\"group == 'control'\")['revenue']\n",
        "revenue_treat = df.query(\"group == 'treatment'\")['revenue']\n",
        "\n",
        "t_score, p_value, _ = statsmodels.stats.weightstats.ttest_ind(revenue_treat,\n",
        "                                                              revenue_contr,\n",
        "                                                              alternative=\"larger\",\n",
        "                                                              usevar='unequal')\n",
        "\n",
        "print(\"T-статистика={},  p_value={}\".format(t_score, p_value))"
      ]
    },
    {
      "cell_type": "markdown",
      "metadata": {
        "id": "4ke_PVil8GXN"
      },
      "source": [
        "#### Проведение вычислений. $Mann–Whitney$-test."
      ]
    },
    {
      "cell_type": "code",
      "execution_count": 60,
      "metadata": {
        "id": "pzhk8IGD8GXN",
        "colab": {
          "base_uri": "https://localhost:8080/"
        },
        "outputId": "23b05d1a-145b-4b7c-c2f5-ad8c68bc79fa"
      },
      "outputs": [
        {
          "output_type": "stream",
          "name": "stdout",
          "text": [
            "W-статистика=12309559045.0,  p_value=0.0\n"
          ]
        }
      ],
      "source": [
        "w_score, p_value = sp.stats.mannwhitneyu(revenue_treat, \n",
        "                                         revenue_contr,\n",
        "                                         alternative=\"greater\")\n",
        "\n",
        "print(\"W-статистика={},  p_value={}\".format(w_score, p_value))"
      ]
    },
    {
      "cell_type": "markdown",
      "source": [
        "**Ответ:** Обозначим уровень значимости $\\alpha = 0.05$, тогда значение $Z$-критерия будет больше $+1,96$. А значение $p-value$ будет ниже значения $\\alpha$. Связи с этим, мы не можем принять гипотезу $H_0$. Таким образом, можно заключить, что **средний чек при старом дизайне ниже, чем при новом**."
      ],
      "metadata": {
        "id": "rRxWkE468GXP"
      }
    },
    {
      "cell_type": "markdown",
      "metadata": {
        "id": "9Nc6hqyn8GXS"
      },
      "source": [
        "### bootstrap  \n",
        "Сделаем стат выводы при помощи bootstrap-а"
      ]
    },
    {
      "cell_type": "code",
      "execution_count": 42,
      "metadata": {
        "id": "-XTNn6-k8GXT",
        "colab": {
          "base_uri": "https://localhost:8080/",
          "height": 265
        },
        "outputId": "97767291-8e76-4194-b547-7404657708d6"
      },
      "outputs": [
        {
          "output_type": "display_data",
          "data": {
            "image/png": "[encoded data removed]",
            "text/plain": [
              "<Figure size 432x288 with 1 Axes>"
            ]
          },
          "metadata": {
            "needs_background": "light"
          }
        }
      ],
      "source": [
        "plt.hist(df.loc[df['group']=='control', 'revenue']);"
      ]
    },
    {
      "cell_type": "code",
      "execution_count": 43,
      "metadata": {
        "id": "mVjF9ZeI8GXT",
        "colab": {
          "base_uri": "https://localhost:8080/",
          "height": 265
        },
        "outputId": "5fc22068-1020-4aac-85bb-fde0ed25a58f"
      },
      "outputs": [
        {
          "output_type": "display_data",
          "data": {
            "image/png": "[encoded data removed]",
            "text/plain": [
              "<Figure size 432x288 with 1 Axes>"
            ]
          },
          "metadata": {
            "needs_background": "light"
          }
        }
      ],
      "source": [
        "plt.hist(df.loc[df['group']=='treatment', 'revenue']);"
      ]
    },
    {
      "cell_type": "code",
      "execution_count": 44,
      "metadata": {
        "id": "rdmh-xin8GXU"
      },
      "outputs": [],
      "source": [
        "a = df.loc[df['group']=='control', 'revenue'].values\n",
        "b = df.loc[df['group']=='treatment', 'revenue'].values"
      ]
    },
    {
      "cell_type": "code",
      "execution_count": 45,
      "metadata": {
        "id": "X00AwKGD8GXU"
      },
      "outputs": [],
      "source": [
        "from sklearn.utils import resample\n",
        "\n",
        "a_means = []\n",
        "b_means = []\n",
        "\n",
        "for i in range(10000):\n",
        "    a_boot = resample(a, replace=True, n_samples=len(a))\n",
        "    b_boot = resample(b, replace=True, n_samples=len(b))\n",
        "    \n",
        "    a_means.append(a_boot.mean())\n",
        "    b_means.append(b_boot.mean())\n",
        "    \n",
        "a_means = np.array(a_means)\n",
        "b_means = np.array(b_means)"
      ]
    },
    {
      "cell_type": "code",
      "execution_count": 46,
      "metadata": {
        "id": "_5Bkn8Xx8GXV",
        "colab": {
          "base_uri": "https://localhost:8080/",
          "height": 265
        },
        "outputId": "ceeb238c-1a5a-4017-b4c2-2c58b17234e0"
      },
      "outputs": [
        {
          "output_type": "display_data",
          "data": {
            "image/png": "[encoded data removed]",
            "text/plain": [
              "<Figure size 432x288 with 1 Axes>"
            ]
          },
          "metadata": {
            "needs_background": "light"
          }
        }
      ],
      "source": [
        "plt.hist(a_means, label='A rev', alpha=0.5, bins=100)\n",
        "plt.hist(b_means, label='B rev', alpha=0.5, bins=100)\n",
        "\n",
        "plt.legend()\n",
        "plt.show()"
      ]
    },
    {
      "cell_type": "code",
      "execution_count": 47,
      "metadata": {
        "id": "JcE5V3j48GXV",
        "colab": {
          "base_uri": "https://localhost:8080/"
        },
        "outputId": "2277a1b0-8f5d-4d8a-9e95-f50a734f657d"
      },
      "outputs": [
        {
          "output_type": "execute_result",
          "data": {
            "text/plain": [
              "(86.94603817613613, 87.99889347026998)"
            ]
          },
          "metadata": {},
          "execution_count": 47
        }
      ],
      "source": [
        "# Доверительный интервал\n",
        "np.percentile(a_means, 2.5), np.percentile(a_means, 97.5)"
      ]
    },
    {
      "cell_type": "code",
      "execution_count": 48,
      "metadata": {
        "id": "SCgihGps8GXW",
        "colab": {
          "base_uri": "https://localhost:8080/",
          "height": 265
        },
        "outputId": "f794ac51-079e-4292-dc58-b3af99fc9e8a"
      },
      "outputs": [
        {
          "output_type": "display_data",
          "data": {
            "image/png": "[encoded data removed]",
            "text/plain": [
              "<Figure size 432x288 with 1 Axes>"
            ]
          },
          "metadata": {
            "needs_background": "light"
          }
        }
      ],
      "source": [
        "plt.hist(a_means - b_means, bins=100)\n",
        "plt.show()"
      ]
    },
    {
      "cell_type": "code",
      "execution_count": 49,
      "metadata": {
        "id": "kWefYAE48GXW",
        "colab": {
          "base_uri": "https://localhost:8080/"
        },
        "outputId": "cf2c82fa-78ad-4d13-b2cd-ec3bad7110fa"
      },
      "outputs": [
        {
          "output_type": "execute_result",
          "data": {
            "text/plain": [
              "0.0"
            ]
          },
          "metadata": {},
          "execution_count": 49
        }
      ],
      "source": [
        "# Сделаем оценку на p_value\n",
        "dff = a_means - b_means\n",
        "\n",
        "len(dff[dff>=0])/len(dff)"
      ]
    },
    {
      "cell_type": "markdown",
      "source": [
        "**Вывод:** На сайте с новым дизайном увеличился средний чек."
      ],
      "metadata": {
        "id": "bITpw9r88GXX"
      }
    },
    {
      "cell_type": "markdown",
      "metadata": {
        "id": "g_KLL3xbUg1D"
      },
      "source": [
        "### Домашнее задание. Теория\n",
        "\n",
        "**1. Если мы рассчитали 95% доверительный интервал для среднего значения, то какие из следующих утверждений являются верными?**\n",
        "\n",
        "Выберите несколько вариантов и попытайтесь объяснить свой выбор:\n",
        "\n",
        "1) Если многократно повторять эксперимент, то 95 % выборочных средних значений будут принадлежать рассчитанному нами доверительному интервалу.\n",
        "\n",
        "**ВЕРНО** 2) Мы можем быть на 95% уверены, что среднее значение в генеральной совокупности принадлежит рассчитанному доверительному интервалу.\n",
        "\n",
        "**ВЕРНО** 3) Если многократно повторять эксперимент, для каждой выборки рассчитывать свой доверительный интервал, то в 95 % случаев истинное среднее будет находиться внутри доверительного интервала.\n",
        "\n",
        "4) Среднее значение в генеральной совокупности точно превышает нижнюю границу 95% доверительного интервала.\n",
        "\n",
        "5) Среднее значение в генеральной совокупности точно принадлежит рассчитанному доверительному интервалу.\n",
        "\n"
      ]
    },
    {
      "cell_type": "markdown",
      "source": [
        "**Ответ:** 2) и 3).\n",
        "\n",
        "Первое утверждение неверно, так как мы сравниваем доверительный интервал со средним значением генеральной совокупности, а не со средним значением конкретной выборки.\n",
        "\n",
        "Четвертое и пятое утверждения неверны, так как 95% описывают вероятность попадания среднего значения генеральной совокупности в доверительный интервал и не могут быть описаны как точная граница.\n",
        "\n"
      ],
      "metadata": {
        "id": "VL5WSg0SHg1j"
      }
    },
    {
      "cell_type": "markdown",
      "source": [
        "**2. Если мы увеличиваем объем выборки в два раза (при условии, что показатель стандартного отклонения остается неизменным), то 95% доверительный интервал?**\n",
        "\n",
        "Выберите один вариант из списка\n",
        "\n",
        "**ВЕРНО** 1) стал более узким\n",
        "\n",
        "2) возможны оба варианта\n",
        "\n",
        "3) стал более широким\n",
        "\n"
      ],
      "metadata": {
        "id": "0C5oCJdNHY9T"
      }
    },
    {
      "cell_type": "markdown",
      "source": [
        "**Ответ:** 1)."
      ],
      "metadata": {
        "id": "9LjBF3X4LH8J"
      }
    },
    {
      "cell_type": "markdown",
      "source": [
        "**3. В центре 95% доверительного интервала, рассчитанного по выборочным значениям, находится:**\n",
        "\n",
        "Выберите один вариант из списка\n",
        "\n",
        "1) Значение стандартной ошибки среднего\n",
        "\n",
        "**ВЕРНО** 2) Выборочное среднее значение\n",
        "\n",
        "3) Среднее значение генеральной совокупности\n",
        "\n"
      ],
      "metadata": {
        "id": "_AUqTqzYLGhF"
      }
    },
    {
      "cell_type": "markdown",
      "source": [
        "**Ответ:** 2)."
      ],
      "metadata": {
        "id": "VHLlgs53NyQ1"
      }
    },
    {
      "cell_type": "markdown",
      "source": [
        "**4. Часто на практике нулевая гипотеза отклоняется, и различия считаются статистически достоверными, если p < 0,05. Однако часто в статистике используется более жесткий критерий достоверности различий, например, при условии, что p < 0,01. Значение p-уровня значимости, которое выбирается, в качестве порога обозначается буквой α (альфа). Например, если исследователь решил, что α = 0,05, то и нулевая гипотеза будет отклоняться при условии, что p < 0,05.**\n",
        "\n",
        "**Если в определенной ситуации весьма рискованно отклонить нулевую гипотезу, когда она на самом деле верна, то лучше использовать показатель α равный?** \n",
        "\n",
        "Выберите один вариант из списка\n",
        "\n",
        "1) 0,1\n",
        "\n",
        "**ВЕРНО** 2) 0,001\n",
        "\n",
        "3) 0,05\n",
        "\n",
        "4) 0,5\n",
        "\n"
      ],
      "metadata": {
        "id": "VkVy1_a8Ntui"
      }
    },
    {
      "cell_type": "markdown",
      "source": [
        "**Ответ:** 2)."
      ],
      "metadata": {
        "id": "4FJEMzOMPCVU"
      }
    },
    {
      "cell_type": "markdown",
      "source": [
        "**5. Данные некоторого исследования сообщают нам, что средний рост детей в 14 лет составляет 166 сантиметров. Однако это лишь выборочная оценка, и исследователи рассчитали 95% доверительный интервал, который составил [160, 172]. Укажите верные утверждения:**\n",
        "\n",
        "Выберите несколько вариантов и попытайтесь объяснить свой выбор:\n",
        "\n",
        "**ВЕРНО** 1) У нас достаточно оснований отклонить нулевую гипотезу, что среднее в генеральной совокупности равняется 173\n",
        "\n",
        "2) Вероятность того, что истинное среднее значение больше 172, составляет 0,01\n",
        "\n",
        "**ВЕРНО** 3) У нас достаточно оснований отклонить нулевую гипотезу, что среднее в генеральной совокупности равняется 158.\n",
        "\n",
        "4) Доверительный интервал не может иметь такие границы, т. к. выборочное стандартное отклонение равняется 10, следовательно доверительный интервал должен быть значительно шире.\n",
        "\n"
      ],
      "metadata": {
        "id": "hNTydrOCOitW"
      }
    },
    {
      "cell_type": "markdown",
      "source": [
        "**Ответ:** 1) и 3).\n",
        "\n",
        "Второе утверждение неверно, так как нет достаточно оснований утверждать, что 0,01 является вероятностью того, что истинное среднее значение больше 172.\n",
        "\n",
        "Четвертое утверждение неверно, так как из условия задачи мы не можем достоверно определить чему равняется выборочное стандартное отклонение."
      ],
      "metadata": {
        "id": "kT5EGBh4Q6Ag"
      }
    },
    {
      "cell_type": "markdown",
      "source": [
        "**6. Предположим, нулевой гипотезой вашего исследования являлось предположение, что конверсия в генеральной совокупности равняется 0.4. Вы получили p = 0,12 и не смогли отклонить нулевую гипотезу. Однако позже выяснилось, что конверсия в генеральной совокупности действиетльно равна 0.4. Как можно оценить результаты?**\n",
        "\n",
        "\n",
        "Какой вариант корректный по вашему мнению и почему?\n",
        "\n",
        "**ВЕРНО** 1) Вы не совершали ни ошибку первого рода, ни ошибку второго рода.\n",
        "\n",
        "2) Вы совершили ошибку первого рода\n",
        "\n",
        "3) Вы совершили ошибку второго рода"
      ],
      "metadata": {
        "id": "gMBc1rlCPLI2"
      }
    },
    {
      "cell_type": "markdown",
      "source": [
        "**Ответ:** 1).\n",
        "\n",
        "В результате исследования была принята нулевая гипотеза, притом что нулевая гипотеза оказалось верной. Следовательно, ошибка первого рода, что нулевая гипотеза отвергнула, не была совершена. Ошибка второго рода, что нулевая гипотеза принята ошибочно, также не совершалась."
      ],
      "metadata": {
        "id": "qRXBsaiBU6qb"
      }
    }
  ],
  "metadata": {
    "kernelspec": {
      "display_name": "Python 3",
      "language": "python",
      "name": "python3"
    },
    "language_info": {
      "codemirror_mode": {
        "name": "ipython",
        "version": 3
      },
      "file_extension": ".py",
      "mimetype": "text/x-python",
      "name": "python",
      "nbconvert_exporter": "python",
      "pygments_lexer": "ipython3",
      "version": "3.8.3"
    },
    "colab": {
      "name": "HW8_AB_testing.ipynb",
      "provenance": []
    }
  },
  "nbformat": 4,
  "nbformat_minor": 0
}