{
  "nbformat": 4,
  "nbformat_minor": 0,
  "metadata": {
    "colab": {
      "name": "HW6_LooAlike.ipynb",
      "provenance": []
    },
    "kernelspec": {
      "name": "python3",
      "display_name": "Python 3"
    },
    "language_info": {
      "name": "python"
    }
  },
  "cells": [
    {
      "cell_type": "code",
      "execution_count": 1442,
      "metadata": {
        "id": "nL4Ih420ksA_"
      },
      "outputs": [],
      "source": [
        "# 1. взять любой набор данных для бинарной классификации (можно скачать один из модельных с https://archive.ics.uci.edu/ml/datasets.php)\n",
        "# 2. сделать feature engineering\n",
        "# 3. обучить любой классификатор (какой вам нравится)\n",
        "# 4. далее разделить ваш набор данных на два множества: P (positives) и U (unlabeled). Причем брать нужно не все положительные (класс 1) примеры, а только лишь часть\n",
        "# 5. применить random negative sampling для построения классификатора в новых условиях\n",
        "# 6. сравнить качество с решением из пункта 4 (построить отчет - таблицу метрик)\n",
        "# 7. поэкспериментировать с долей P на шаге 5 (как будет меняться качество модели при уменьшении/увеличении размера P)"
      ]
    },
    {
      "cell_type": "code",
      "source": [
        "import pandas as pd\n",
        "import numpy as np\n",
        "import re\n",
        "from sklearn.utils import shuffle\n",
        "from sklearn.pipeline import Pipeline, make_pipeline\n",
        "from sklearn.base import BaseEstimator, TransformerMixin\n",
        "from sklearn.linear_model import LogisticRegression\n",
        "from sklearn.model_selection import train_test_split\n",
        "from sklearn.pipeline import Pipeline\n",
        "from sklearn.pipeline import FeatureUnion\n",
        "from sklearn.ensemble import RandomForestClassifier\n",
        "from sklearn.metrics import f1_score, roc_auc_score, precision_score, classification_report, precision_recall_curve, confusion_matrix, log_loss\n",
        "from sklearn.model_selection import GridSearchCV\n",
        "import xgboost as xgb\n",
        "from datetime import datetime as dt\n",
        "from sklearn.preprocessing import MinMaxScaler\n",
        "from sklearn.ensemble import GradientBoostingClassifier\n",
        "from sklearn.preprocessing import StandardScaler\n",
        "import random\n",
        "import warnings\n",
        "import itertools\n",
        "import matplotlib.pyplot as plt\n",
        "%matplotlib inline\n",
        "warnings.filterwarnings(\"ignore\", category=DeprecationWarning)\n",
        "random.seed(42)"
      ],
      "metadata": {
        "id": "1Z38osxQnMK1"
      },
      "execution_count": 1443,
      "outputs": []
    },
    {
      "cell_type": "code",
      "source": [
        "data = pd.read_csv('/content/drive/MyDrive/Colab Notebooks/ML в бизнесе/bank.csv', sep=';')"
      ],
      "metadata": {
        "id": "JaqaAJjvRKX6"
      },
      "execution_count": 1444,
      "outputs": []
    },
    {
      "cell_type": "code",
      "source": [
        "data.head()"
      ],
      "metadata": {
        "colab": {
          "base_uri": "https://localhost:8080/",
          "height": 206
        },
        "id": "SIzxvMdkVK3l",
        "outputId": "d2302a9b-be24-4354-d3e1-6d2627919a21"
      },
      "execution_count": 1445,
      "outputs": [
        {
          "output_type": "execute_result",
          "data": {
            "text/html": [
              "<div>\n",
              "<style scoped>\n",
              "    .dataframe tbody tr th:only-of-type {\n",
              "        vertical-align: middle;\n",
              "    }\n",
              "\n",
              "    .dataframe tbody tr th {\n",
              "        vertical-align: top;\n",
              "    }\n",
              "\n",
              "    .dataframe thead th {\n",
              "        text-align: right;\n",
              "    }\n",
              "</style>\n",
              "<table border=\"1\" class=\"dataframe\">\n",
              "  <thead>\n",
              "    <tr style=\"text-align: right;\">\n",
              "      <th></th>\n",
              "      <th>age</th>\n",
              "      <th>job</th>\n",
              "      <th>marital</th>\n",
              "      <th>education</th>\n",
              "      <th>default</th>\n",
              "      <th>balance</th>\n",
              "      <th>housing</th>\n",
              "      <th>loan</th>\n",
              "      <th>contact</th>\n",
              "      <th>day</th>\n",
              "      <th>month</th>\n",
              "      <th>duration</th>\n",
              "      <th>campaign</th>\n",
              "      <th>pdays</th>\n",
              "      <th>previous</th>\n",
              "      <th>poutcome</th>\n",
              "      <th>y</th>\n",
              "    </tr>\n",
              "  </thead>\n",
              "  <tbody>\n",
              "    <tr>\n",
              "      <th>0</th>\n",
              "      <td>30</td>\n",
              "      <td>unemployed</td>\n",
              "      <td>married</td>\n",
              "      <td>primary</td>\n",
              "      <td>no</td>\n",
              "      <td>1787</td>\n",
              "      <td>no</td>\n",
              "      <td>no</td>\n",
              "      <td>cellular</td>\n",
              "      <td>19</td>\n",
              "      <td>oct</td>\n",
              "      <td>79</td>\n",
              "      <td>1</td>\n",
              "      <td>-1</td>\n",
              "      <td>0</td>\n",
              "      <td>unknown</td>\n",
              "      <td>no</td>\n",
              "    </tr>\n",
              "    <tr>\n",
              "      <th>1</th>\n",
              "      <td>33</td>\n",
              "      <td>services</td>\n",
              "      <td>married</td>\n",
              "      <td>secondary</td>\n",
              "      <td>no</td>\n",
              "      <td>4789</td>\n",
              "      <td>yes</td>\n",
              "      <td>yes</td>\n",
              "      <td>cellular</td>\n",
              "      <td>11</td>\n",
              "      <td>may</td>\n",
              "      <td>220</td>\n",
              "      <td>1</td>\n",
              "      <td>339</td>\n",
              "      <td>4</td>\n",
              "      <td>failure</td>\n",
              "      <td>no</td>\n",
              "    </tr>\n",
              "    <tr>\n",
              "      <th>2</th>\n",
              "      <td>35</td>\n",
              "      <td>management</td>\n",
              "      <td>single</td>\n",
              "      <td>tertiary</td>\n",
              "      <td>no</td>\n",
              "      <td>1350</td>\n",
              "      <td>yes</td>\n",
              "      <td>no</td>\n",
              "      <td>cellular</td>\n",
              "      <td>16</td>\n",
              "      <td>apr</td>\n",
              "      <td>185</td>\n",
              "      <td>1</td>\n",
              "      <td>330</td>\n",
              "      <td>1</td>\n",
              "      <td>failure</td>\n",
              "      <td>no</td>\n",
              "    </tr>\n",
              "    <tr>\n",
              "      <th>3</th>\n",
              "      <td>30</td>\n",
              "      <td>management</td>\n",
              "      <td>married</td>\n",
              "      <td>tertiary</td>\n",
              "      <td>no</td>\n",
              "      <td>1476</td>\n",
              "      <td>yes</td>\n",
              "      <td>yes</td>\n",
              "      <td>unknown</td>\n",
              "      <td>3</td>\n",
              "      <td>jun</td>\n",
              "      <td>199</td>\n",
              "      <td>4</td>\n",
              "      <td>-1</td>\n",
              "      <td>0</td>\n",
              "      <td>unknown</td>\n",
              "      <td>no</td>\n",
              "    </tr>\n",
              "    <tr>\n",
              "      <th>4</th>\n",
              "      <td>59</td>\n",
              "      <td>blue-collar</td>\n",
              "      <td>married</td>\n",
              "      <td>secondary</td>\n",
              "      <td>no</td>\n",
              "      <td>0</td>\n",
              "      <td>yes</td>\n",
              "      <td>no</td>\n",
              "      <td>unknown</td>\n",
              "      <td>5</td>\n",
              "      <td>may</td>\n",
              "      <td>226</td>\n",
              "      <td>1</td>\n",
              "      <td>-1</td>\n",
              "      <td>0</td>\n",
              "      <td>unknown</td>\n",
              "      <td>no</td>\n",
              "    </tr>\n",
              "  </tbody>\n",
              "</table>\n",
              "</div>"
            ],
            "text/plain": [
              "   age          job  marital  education  ... pdays  previous poutcome   y\n",
              "0   30   unemployed  married    primary  ...    -1         0  unknown  no\n",
              "1   33     services  married  secondary  ...   339         4  failure  no\n",
              "2   35   management   single   tertiary  ...   330         1  failure  no\n",
              "3   30   management  married   tertiary  ...    -1         0  unknown  no\n",
              "4   59  blue-collar  married  secondary  ...    -1         0  unknown  no\n",
              "\n",
              "[5 rows x 17 columns]"
            ]
          },
          "metadata": {},
          "execution_count": 1445
        }
      ]
    },
    {
      "cell_type": "code",
      "source": [
        "data.info()"
      ],
      "metadata": {
        "colab": {
          "base_uri": "https://localhost:8080/"
        },
        "id": "S7vWHk_KUdg_",
        "outputId": "0f281c44-6f69-46c3-eb4a-2a752a2bbd3a"
      },
      "execution_count": 1446,
      "outputs": [
        {
          "output_type": "stream",
          "name": "stdout",
          "text": [
            "<class 'pandas.core.frame.DataFrame'>\n",
            "RangeIndex: 4521 entries, 0 to 4520\n",
            "Data columns (total 17 columns):\n",
            " #   Column     Non-Null Count  Dtype \n",
            "---  ------     --------------  ----- \n",
            " 0   age        4521 non-null   int64 \n",
            " 1   job        4521 non-null   object\n",
            " 2   marital    4521 non-null   object\n",
            " 3   education  4521 non-null   object\n",
            " 4   default    4521 non-null   object\n",
            " 5   balance    4521 non-null   int64 \n",
            " 6   housing    4521 non-null   object\n",
            " 7   loan       4521 non-null   object\n",
            " 8   contact    4521 non-null   object\n",
            " 9   day        4521 non-null   int64 \n",
            " 10  month      4521 non-null   object\n",
            " 11  duration   4521 non-null   int64 \n",
            " 12  campaign   4521 non-null   int64 \n",
            " 13  pdays      4521 non-null   int64 \n",
            " 14  previous   4521 non-null   int64 \n",
            " 15  poutcome   4521 non-null   object\n",
            " 16  y          4521 non-null   object\n",
            "dtypes: int64(7), object(10)\n",
            "memory usage: 600.6+ KB\n"
          ]
        }
      ]
    },
    {
      "cell_type": "code",
      "source": [
        "X = data.copy().drop(['y'], axis=1)\n",
        "y = data['y']"
      ],
      "metadata": {
        "id": "hOb3wTRq3UfV"
      },
      "execution_count": 1447,
      "outputs": []
    },
    {
      "cell_type": "code",
      "source": [
        "y.value_counts()"
      ],
      "metadata": {
        "colab": {
          "base_uri": "https://localhost:8080/"
        },
        "id": "-czEjrD2FggT",
        "outputId": "bb4c0918-7f65-4401-da85-ea62427415a1"
      },
      "execution_count": 1448,
      "outputs": [
        {
          "output_type": "execute_result",
          "data": {
            "text/plain": [
              "no     4000\n",
              "yes     521\n",
              "Name: y, dtype: int64"
            ]
          },
          "metadata": {},
          "execution_count": 1448
        }
      ]
    },
    {
      "cell_type": "code",
      "source": [
        "class FeatureSelector(BaseEstimator, TransformerMixin):\n",
        "    def __init__(self, column):\n",
        "        self.column = column\n",
        "\n",
        "    def fit(self, X, y=None):\n",
        "        return self\n",
        "\n",
        "    def transform(self, X, y=None):\n",
        "        return X[self.column]\n",
        "    \n",
        "class NumberSelector(BaseEstimator, TransformerMixin):\n",
        "    \"\"\"\n",
        "    Transformer to select a single column from the data frame to perform additional transformations on\n",
        "    Use on numeric columns in the data\n",
        "    \"\"\"\n",
        "    def __init__(self, key):\n",
        "        self.key = key\n",
        "\n",
        "    def fit(self, X, y=None):\n",
        "        return self\n",
        "\n",
        "    def transform(self, X):\n",
        "        return X[[self.key]]\n",
        "    \n",
        "class OHEEncoder(BaseEstimator, TransformerMixin):\n",
        "    def __init__(self, key):\n",
        "        self.key = key\n",
        "        self.columns = []\n",
        "\n",
        "    def fit(self, X, y=None):\n",
        "        self.columns = [col for col in pd.get_dummies(X, prefix=self.key).columns]\n",
        "        return self\n",
        "\n",
        "    def transform(self, X):\n",
        "        X = pd.get_dummies(X, prefix=self.key)\n",
        "        test_columns = [col for col in X.columns]\n",
        "        for col_ in self.columns:\n",
        "            if col_ not in test_columns:\n",
        "                X[col_] = 0\n",
        "        return X[self.columns]"
      ],
      "metadata": {
        "id": "C-CzvldaGdc2"
      },
      "execution_count": 1449,
      "outputs": []
    },
    {
      "cell_type": "code",
      "source": [
        "# Функция для разделения категориальных и числовых признаков\n",
        "def split_features(data):\n",
        "  cat_feats = []\n",
        "  num_feats = []\n",
        "\n",
        "  for i in range(len(data.columns)):\n",
        "    if type(data[data.columns[i]][0]) == str:\n",
        "      cat_feats.append(data.columns[i])\n",
        "    else:\n",
        "      num_feats.append(data.columns[i])\n",
        "\n",
        "  return cat_feats, num_feats"
      ],
      "metadata": {
        "id": "D9L-ovIFXO6_"
      },
      "execution_count": 1450,
      "outputs": []
    },
    {
      "cell_type": "code",
      "source": [
        "# Функция для формирования списка названий трансформированных признаков\n",
        "def get_features_transformed(model):\n",
        "\n",
        "    features_transformed = []\n",
        "\n",
        "    for i in range(len(model[0].transformer_list)):\n",
        "        if model[0].transformer_list[i][0] in cat_feats:\n",
        "            temp = model.named_steps['feats'].transformer_list[i][1].named_steps['ohe'].columns\n",
        "            [features_transformed.append(i) for i in temp]\n",
        "        else:\n",
        "            features_transformed.append(model[0].transformer_list[i][1][0].key)\n",
        "    return features_transformed"
      ],
      "metadata": {
        "id": "h-lmlsaPsyNf"
      },
      "execution_count": 1451,
      "outputs": []
    },
    {
      "cell_type": "code",
      "source": [
        "table_comp = pd.DataFrame({'Model': [],\n",
        "                           'Threshold': [],\n",
        "                           'F-Score': [],\n",
        "                           'Precision': [],\n",
        "                           'Recall': [],\n",
        "                           'ROC AUC': [],\n",
        "                           'TP': [],\n",
        "                           'FP': [],\n",
        "                           'TN': [],\n",
        "                           'FN': []})"
      ],
      "metadata": {
        "id": "kO6qir_BIlDV"
      },
      "execution_count": 1452,
      "outputs": []
    },
    {
      "cell_type": "code",
      "source": [
        "cat_feats, num_feats = split_features(X)"
      ],
      "metadata": {
        "id": "5W_3hsinadIr"
      },
      "execution_count": 1453,
      "outputs": []
    },
    {
      "cell_type": "code",
      "source": [
        "# Отберем признаки, в которых есть ответы только 'yes' и 'no'\n",
        "feats_y_n = []\n",
        "for i in cat_feats:\n",
        "  if X[i][0] == 'yes' or X[i][0] == 'no':\n",
        "    feats_y_n.append(i)\n",
        "feats_y_n"
      ],
      "metadata": {
        "colab": {
          "base_uri": "https://localhost:8080/"
        },
        "id": "GyofSehQbCar",
        "outputId": "f261275c-60ec-422b-c697-2fa28c7cf2c8"
      },
      "execution_count": 1454,
      "outputs": [
        {
          "output_type": "execute_result",
          "data": {
            "text/plain": [
              "['default', 'housing', 'loan']"
            ]
          },
          "metadata": {},
          "execution_count": 1454
        }
      ]
    },
    {
      "cell_type": "code",
      "source": [
        "for i in feats_y_n:\n",
        "  if i in cat_feats:\n",
        "    cat_feats.remove(i)\n",
        "cat_feats"
      ],
      "metadata": {
        "colab": {
          "base_uri": "https://localhost:8080/"
        },
        "id": "z9QmCQ4egYcY",
        "outputId": "8c78bc1d-f543-4539-d774-578734d0e073"
      },
      "execution_count": 1455,
      "outputs": [
        {
          "output_type": "execute_result",
          "data": {
            "text/plain": [
              "['job', 'marital', 'education', 'contact', 'month', 'poutcome']"
            ]
          },
          "metadata": {},
          "execution_count": 1455
        }
      ]
    },
    {
      "cell_type": "code",
      "source": [
        "# Заменяем значения 'yes' и 'no' на 1 и 0\n",
        "for y_n_col in feats_y_n:\n",
        "  X.replace({y_n_col: {'yes': 1, 'no': 0}}, inplace=True)\n",
        "\n",
        "num_feats = num_feats + feats_y_n\n",
        "\n",
        "# Заменяем значения 'yes' и 'no' на 1 и 0 в таргете\n",
        "y.replace({'yes': 1, 'no': 0}, inplace=True)\n",
        "y.value_counts()"
      ],
      "metadata": {
        "colab": {
          "base_uri": "https://localhost:8080/"
        },
        "id": "_iNLkU5woN2b",
        "outputId": "7a229035-35f2-4e90-cb7f-546a524c0dbd"
      },
      "execution_count": 1456,
      "outputs": [
        {
          "output_type": "execute_result",
          "data": {
            "text/plain": [
              "0    4000\n",
              "1     521\n",
              "Name: y, dtype: int64"
            ]
          },
          "metadata": {},
          "execution_count": 1456
        }
      ]
    },
    {
      "cell_type": "code",
      "source": [
        "# Набор трансформеров для признаков\n",
        "final_transformers = list()\n",
        "\n",
        "# Делаем dummy признаки из категориальных\n",
        "for cat_col in cat_feats:\n",
        "    cat_transformer = Pipeline([\n",
        "                ('selector', FeatureSelector(column=cat_col)), \n",
        "                ('ohe', OHEEncoder(key=cat_col))\n",
        "            ])\n",
        "    final_transformers.append((cat_col, cat_transformer))\n",
        "\n",
        "# Отберем оставшиеся признаки\n",
        "for col in num_feats:\n",
        "    non_transformer = Pipeline([\n",
        "                ('selector', NumberSelector(key=col))\n",
        "            ])\n",
        "    final_transformers.append((col, non_transformer))\n",
        "    \n",
        "\n",
        "feats_final = FeatureUnion(final_transformers)\n",
        "feature_processing = Pipeline([('feats', feats_final)])\n",
        "\n",
        "# Вытащим названия трансформированных признаков\n",
        "feature_processing.fit(X_train)\n",
        "feats_trans_names = get_features_transformed(feature_processing)"
      ],
      "metadata": {
        "id": "V6myjCmkHQGS"
      },
      "execution_count": 1457,
      "outputs": []
    },
    {
      "cell_type": "code",
      "source": [
        "X_train, X_test, y_train, y_test = train_test_split(X, y, random_state=42, train_size=0.3)"
      ],
      "metadata": {
        "id": "Dz9ulwFFFwwL"
      },
      "execution_count": 1458,
      "outputs": []
    },
    {
      "cell_type": "code",
      "source": [
        "pipeline = Pipeline([\n",
        "    ('features', feats_final),\n",
        "    ('classifier', RandomForestClassifier(n_estimators=150, max_depth=None, min_samples_leaf=2, random_state=42)),\n",
        "])\n",
        "\n",
        "pipeline = pipeline.fit(X_train, y_train)\n",
        "preds_rf = pipeline.predict_proba(X_test)[:, 1]\n",
        "\n",
        "precision, recall, thresholds = precision_recall_curve(y_test, preds_rf)\n",
        "fscore = (2 * precision * recall) / (precision + recall)\n",
        "ix = np.argmax(fscore)\n",
        "print('Best Threshold=%f, F-Score=%.3f, Precision=%.3f, Recall=%.3f' % (thresholds[ix], \n",
        "                                                                        fscore[ix],\n",
        "                                                                        precision[ix],\n",
        "                                                                        recall[ix]))\n",
        "\n",
        "cnf_matrix = confusion_matrix(y_test, preds_rf>thresholds[ix])\n",
        "table_comp.loc[0] = ['RandomForestClassifier', thresholds[ix], fscore[ix], precision[ix], recall[ix], roc_auc_score(y_test, preds_rf), cnf_matrix[1][1], cnf_matrix[0][1], cnf_matrix[0][0], cnf_matrix[1][0]]"
      ],
      "metadata": {
        "colab": {
          "base_uri": "https://localhost:8080/"
        },
        "id": "KtDwUWfKlQO1",
        "outputId": "98a38db2-f4d7-45d0-be47-767743ab6b89"
      },
      "execution_count": 1459,
      "outputs": [
        {
          "output_type": "stream",
          "name": "stdout",
          "text": [
            "Best Threshold=0.248115, F-Score=0.557, Precision=0.507, Recall=0.619\n"
          ]
        }
      ]
    },
    {
      "cell_type": "markdown",
      "source": [
        "### **Random negative sampling**"
      ],
      "metadata": {
        "id": "au0oMToXy3gU"
      }
    },
    {
      "cell_type": "code",
      "source": [
        "frac = [0.4, 0.45, 0.5, 0.65, 0.7]\n",
        "\n",
        "for i in range(len(frac)):\n",
        "  # Сформируем датасет с таргетом\n",
        "  X_train_with_target = pd.concat([X_train, y_train], axis=1)\n",
        "\n",
        "  # Отберем только позитивные примеры\n",
        "  X_train_positive = X_train_with_target[X_train_with_target['y'] == 1]\n",
        "\n",
        "  # Сформируем выборку из позитивных примеров\n",
        "  data_positive = X_train_positive.sample(frac=frac[i], replace=True, random_state=42, axis=0)\n",
        "\n",
        "  # Сформируем выборку unlabeled\n",
        "  data_unlabeled = X_train_with_target.drop(labels = data_positive.index, axis = 0)\n",
        "\n",
        "  # Воспользуемся методом Random negative sampling\n",
        "  data_negative = data_unlabeled.sample(n=data_positive.shape[0], replace=True, random_state=42, axis=0)\n",
        "\n",
        "  # Сформируем новый датасет\n",
        "  data_new = pd.concat([data_positive, data_negative])\n",
        "  X_new = data_new.copy().drop(['y'], axis=1)\n",
        "  y_new = data_new['y']\n",
        "\n",
        "  pipeline = Pipeline([\n",
        "      ('features', feats_final),\n",
        "      ('classifier', RandomForestClassifier(n_estimators=150, max_depth=None, min_samples_leaf=2, random_state=42)),\n",
        "  ])\n",
        "\n",
        "  pipeline_rns = pipeline.fit(X_new, y_new)\n",
        "  preds_rns = pipeline_rns.predict_proba(X_test)[:, 1]\n",
        "\n",
        "  precision, recall, thresholds = precision_recall_curve(y_test, preds_rns)\n",
        "  fscore = (2 * precision * recall) / (precision + recall)\n",
        "  ix = np.argmax(fscore)\n",
        "\n",
        "  cnf_matrix = confusion_matrix(y_test, preds_rns>thresholds[ix])\n",
        "  table_comp.loc[i+1] = [f'Random negative sampling_{int(frac[i]*100)}%', thresholds[ix], fscore[ix], precision[ix], recall[ix], roc_auc_score(y_test, preds_rns), cnf_matrix[1][1], cnf_matrix[0][1], cnf_matrix[0][0], cnf_matrix[1][0]]"
      ],
      "metadata": {
        "id": "r-zmyiz0KXyp"
      },
      "execution_count": 1460,
      "outputs": []
    },
    {
      "cell_type": "code",
      "source": [
        "table_comp"
      ],
      "metadata": {
        "colab": {
          "base_uri": "https://localhost:8080/",
          "height": 238
        },
        "id": "Gga4I6jwJK9I",
        "outputId": "65ad8db7-70fc-4415-e82f-9e511b248ce2"
      },
      "execution_count": 1461,
      "outputs": [
        {
          "output_type": "execute_result",
          "data": {
            "text/html": [
              "<div>\n",
              "<style scoped>\n",
              "    .dataframe tbody tr th:only-of-type {\n",
              "        vertical-align: middle;\n",
              "    }\n",
              "\n",
              "    .dataframe tbody tr th {\n",
              "        vertical-align: top;\n",
              "    }\n",
              "\n",
              "    .dataframe thead th {\n",
              "        text-align: right;\n",
              "    }\n",
              "</style>\n",
              "<table border=\"1\" class=\"dataframe\">\n",
              "  <thead>\n",
              "    <tr style=\"text-align: right;\">\n",
              "      <th></th>\n",
              "      <th>Model</th>\n",
              "      <th>Threshold</th>\n",
              "      <th>F-Score</th>\n",
              "      <th>Precision</th>\n",
              "      <th>Recall</th>\n",
              "      <th>ROC AUC</th>\n",
              "      <th>TP</th>\n",
              "      <th>FP</th>\n",
              "      <th>TN</th>\n",
              "      <th>FN</th>\n",
              "    </tr>\n",
              "  </thead>\n",
              "  <tbody>\n",
              "    <tr>\n",
              "      <th>0</th>\n",
              "      <td>RandomForestClassifier</td>\n",
              "      <td>0.248115</td>\n",
              "      <td>0.557214</td>\n",
              "      <td>0.506787</td>\n",
              "      <td>0.618785</td>\n",
              "      <td>0.896393</td>\n",
              "      <td>223.0</td>\n",
              "      <td>218.0</td>\n",
              "      <td>2585.0</td>\n",
              "      <td>139.0</td>\n",
              "    </tr>\n",
              "    <tr>\n",
              "      <th>1</th>\n",
              "      <td>Random negative sampling_40%</td>\n",
              "      <td>0.602494</td>\n",
              "      <td>0.426023</td>\n",
              "      <td>0.343486</td>\n",
              "      <td>0.560773</td>\n",
              "      <td>0.820308</td>\n",
              "      <td>202.0</td>\n",
              "      <td>388.0</td>\n",
              "      <td>2415.0</td>\n",
              "      <td>160.0</td>\n",
              "    </tr>\n",
              "    <tr>\n",
              "      <th>2</th>\n",
              "      <td>Random negative sampling_45%</td>\n",
              "      <td>0.533456</td>\n",
              "      <td>0.426456</td>\n",
              "      <td>0.331797</td>\n",
              "      <td>0.596685</td>\n",
              "      <td>0.814677</td>\n",
              "      <td>215.0</td>\n",
              "      <td>435.0</td>\n",
              "      <td>2368.0</td>\n",
              "      <td>147.0</td>\n",
              "    </tr>\n",
              "    <tr>\n",
              "      <th>3</th>\n",
              "      <td>Random negative sampling_50%</td>\n",
              "      <td>0.558009</td>\n",
              "      <td>0.441341</td>\n",
              "      <td>0.332865</td>\n",
              "      <td>0.654696</td>\n",
              "      <td>0.833055</td>\n",
              "      <td>236.0</td>\n",
              "      <td>475.0</td>\n",
              "      <td>2328.0</td>\n",
              "      <td>126.0</td>\n",
              "    </tr>\n",
              "    <tr>\n",
              "      <th>4</th>\n",
              "      <td>Random negative sampling_65%</td>\n",
              "      <td>0.537114</td>\n",
              "      <td>0.462535</td>\n",
              "      <td>0.347705</td>\n",
              "      <td>0.690608</td>\n",
              "      <td>0.851768</td>\n",
              "      <td>249.0</td>\n",
              "      <td>469.0</td>\n",
              "      <td>2334.0</td>\n",
              "      <td>113.0</td>\n",
              "    </tr>\n",
              "    <tr>\n",
              "      <th>5</th>\n",
              "      <td>Random negative sampling_70%</td>\n",
              "      <td>0.560012</td>\n",
              "      <td>0.465549</td>\n",
              "      <td>0.351124</td>\n",
              "      <td>0.690608</td>\n",
              "      <td>0.850394</td>\n",
              "      <td>249.0</td>\n",
              "      <td>462.0</td>\n",
              "      <td>2341.0</td>\n",
              "      <td>113.0</td>\n",
              "    </tr>\n",
              "  </tbody>\n",
              "</table>\n",
              "</div>"
            ],
            "text/plain": [
              "                          Model  Threshold   F-Score  ...     FP      TN     FN\n",
              "0        RandomForestClassifier   0.248115  0.557214  ...  218.0  2585.0  139.0\n",
              "1  Random negative sampling_40%   0.602494  0.426023  ...  388.0  2415.0  160.0\n",
              "2  Random negative sampling_45%   0.533456  0.426456  ...  435.0  2368.0  147.0\n",
              "3  Random negative sampling_50%   0.558009  0.441341  ...  475.0  2328.0  126.0\n",
              "4  Random negative sampling_65%   0.537114  0.462535  ...  469.0  2334.0  113.0\n",
              "5  Random negative sampling_70%   0.560012  0.465549  ...  462.0  2341.0  113.0\n",
              "\n",
              "[6 rows x 10 columns]"
            ]
          },
          "metadata": {},
          "execution_count": 1461
        }
      ]
    },
    {
      "cell_type": "markdown",
      "source": [
        "**Вывод:** Метод Случайного леса показывает лучшие метрики, чем метод Random negative sampling. При этом если мы увеличиваем выборку позитивных примеров, точность модели повышается, и наоборот, если уменьшаем выборку - точность падает."
      ],
      "metadata": {
        "id": "ubfC0LOsO148"
      }
    }
  ]
}